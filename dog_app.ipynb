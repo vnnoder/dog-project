{
 "cells": [
  {
   "cell_type": "markdown",
   "metadata": {
    "deletable": true,
    "editable": true
   },
   "source": [
    "# Artificial Intelligence Nanodegree\n",
    "\n",
    "## Convolutional Neural Networks\n",
    "\n",
    "## Project: Write an Algorithm for a Dog Identification App \n",
    "\n",
    "---\n",
    "\n",
    "In this notebook, some template code has already been provided for you, and you will need to implement additional functionality to successfully complete this project. You will not need to modify the included code beyond what is requested. Sections that begin with **'(IMPLEMENTATION)'** in the header indicate that the following block of code will require additional functionality which you must provide. Instructions will be provided for each section, and the specifics of the implementation are marked in the code block with a 'TODO' statement. Please be sure to read the instructions carefully! \n",
    "\n",
    "> **Note**: Once you have completed all of the code implementations, you need to finalize your work by exporting the iPython Notebook as an HTML document. Before exporting the notebook to html, all of the code cells need to have been run so that reviewers can see the final implementation and output. You can then export the notebook by using the menu above and navigating to  \\n\",\n",
    "    \"**File -> Download as -> HTML (.html)**. Include the finished document along with this notebook as your submission.\n",
    "\n",
    "In addition to implementing code, there will be questions that you must answer which relate to the project and your implementation. Each section where you will answer a question is preceded by a **'Question X'** header. Carefully read each question and provide thorough answers in the following text boxes that begin with **'Answer:'**. Your project submission will be evaluated based on your answers to each of the questions and the implementation you provide.\n",
    "\n",
    ">**Note:** Code and Markdown cells can be executed using the **Shift + Enter** keyboard shortcut.  Markdown cells can be edited by double-clicking the cell to enter edit mode.\n",
    "\n",
    "The rubric contains _optional_ \"Stand Out Suggestions\" for enhancing the project beyond the minimum requirements. If you decide to pursue the \"Stand Out Suggestions\", you should include the code in this IPython notebook.\n",
    "\n",
    "\n",
    "\n",
    "---\n",
    "### Why We're Here \n",
    "\n",
    "In this notebook, you will make the first steps towards developing an algorithm that could be used as part of a mobile or web app.  At the end of this project, your code will accept any user-supplied image as input.  If a dog is detected in the image, it will provide an estimate of the dog's breed.  If a human is detected, it will provide an estimate of the dog breed that is most resembling.  The image below displays potential sample output of your finished project (... but we expect that each student's algorithm will behave differently!). \n",
    "\n",
    "![Sample Dog Output](images/sample_dog_output.png)\n",
    "\n",
    "In this real-world setting, you will need to piece together a series of models to perform different tasks; for instance, the algorithm that detects humans in an image will be different from the CNN that infers dog breed.  There are many points of possible failure, and no perfect algorithm exists.  Your imperfect solution will nonetheless create a fun user experience!\n",
    "\n",
    "### The Road Ahead\n",
    "\n",
    "We break the notebook into separate steps.  Feel free to use the links below to navigate the notebook.\n",
    "\n",
    "* [Step 0](#step0): Import Datasets\n",
    "* [Step 1](#step1): Detect Humans\n",
    "* [Step 2](#step2): Detect Dogs\n",
    "* [Step 3](#step3): Create a CNN to Classify Dog Breeds (from Scratch)\n",
    "* [Step 4](#step4): Use a CNN to Classify Dog Breeds (using Transfer Learning)\n",
    "* [Step 5](#step5): Create a CNN to Classify Dog Breeds (using Transfer Learning)\n",
    "* [Step 6](#step6): Write your Algorithm\n",
    "* [Step 7](#step7): Test Your Algorithm\n",
    "\n",
    "---\n",
    "<a id='step0'></a>\n",
    "## Step 0: Import Datasets\n",
    "\n",
    "### Import Dog Dataset\n",
    "\n",
    "In the code cell below, we import a dataset of dog images.  We populate a few variables through the use of the `load_files` function from the scikit-learn library:\n",
    "- `train_files`, `valid_files`, `test_files` - numpy arrays containing file paths to images\n",
    "- `train_targets`, `valid_targets`, `test_targets` - numpy arrays containing onehot-encoded classification labels \n",
    "- `dog_names` - list of string-valued dog breed names for translating labels"
   ]
  },
  {
   "cell_type": "code",
   "execution_count": 2,
   "metadata": {
    "collapsed": false,
    "deletable": true,
    "editable": true
   },
   "outputs": [
    {
     "name": "stderr",
     "output_type": "stream",
     "text": [
      "Using TensorFlow backend.\n"
     ]
    },
    {
     "name": "stdout",
     "output_type": "stream",
     "text": [
      "There are 133 total dog categories.\n",
      "There are 8351 total dog images.\n",
      "\n",
      "There are 6680 training dog images.\n",
      "There are 835 validation dog images.\n",
      "There are 836 test dog images.\n"
     ]
    }
   ],
   "source": [
    "from sklearn.datasets import load_files       \n",
    "from keras.utils import np_utils\n",
    "import numpy as np\n",
    "from glob import glob\n",
    "\n",
    "# define function to load train, test, and validation datasets\n",
    "def load_dataset(path):\n",
    "    data = load_files(path)\n",
    "    dog_files = np.array(data['filenames'])\n",
    "    dog_targets = np_utils.to_categorical(np.array(data['target']), 133)\n",
    "    return dog_files, dog_targets\n",
    "\n",
    "# load train, test, and validation datasets\n",
    "train_files, train_targets = load_dataset('dogImages/train')\n",
    "valid_files, valid_targets = load_dataset('dogImages/valid')\n",
    "test_files, test_targets = load_dataset('dogImages/test')\n",
    "\n",
    "# load list of dog names\n",
    "dog_names = [item[20:-1] for item in sorted(glob(\"dogImages/train/*/\"))]\n",
    "\n",
    "# print statistics about the dataset\n",
    "print('There are %d total dog categories.' % len(dog_names))\n",
    "print('There are %s total dog images.\\n' % len(np.hstack([train_files, valid_files, test_files])))\n",
    "print('There are %d training dog images.' % len(train_files))\n",
    "print('There are %d validation dog images.' % len(valid_files))\n",
    "print('There are %d test dog images.'% len(test_files))"
   ]
  },
  {
   "cell_type": "code",
   "execution_count": 7,
   "metadata": {
    "collapsed": false
   },
   "outputs": [
    {
     "name": "stdout",
     "output_type": "stream",
     "text": [
      "dogImages/test\n",
      "['dogImages/test/057.Dalmatian/Dalmatian_04056.jpg'\n",
      " 'dogImages/test/059.Doberman_pinscher/Doberman_pinscher_04156.jpg'\n",
      " 'dogImages/test/115.Papillon/Papillon_07480.jpg'\n",
      " 'dogImages/test/019.Bedlington_terrier/Bedlington_terrier_01363.jpg'\n",
      " 'dogImages/test/068.Flat-coated_retriever/Flat-coated_retriever_04703.jpg'\n",
      " 'dogImages/test/021.Belgian_sheepdog/Belgian_sheepdog_01548.jpg'\n",
      " 'dogImages/test/043.Canaan_dog/Canaan_dog_03072.jpg'\n",
      " 'dogImages/test/052.Clumber_spaniel/Clumber_spaniel_03715.jpg'\n",
      " 'dogImages/test/097.Lakeland_terrier/Lakeland_terrier_06518.jpg'\n",
      " 'dogImages/test/051.Chow_chow/Chow_chow_03664.jpg'\n",
      " 'dogImages/test/002.Afghan_hound/Afghan_hound_00116.jpg'\n",
      " 'dogImages/test/019.Bedlington_terrier/Bedlington_terrier_01369.jpg'\n",
      " 'dogImages/test/075.Glen_of_imaal_terrier/Glen_of_imaal_terrier_05164.jpg'\n",
      " 'dogImages/test/133.Yorkshire_terrier/Yorkshire_terrier_08337.jpg'\n",
      " 'dogImages/test/071.German_shepherd_dog/German_shepherd_dog_04931.jpg'\n",
      " 'dogImages/test/014.Basenji/Basenji_00978.jpg'\n",
      " 'dogImages/test/123.Pomeranian/Pomeranian_07873.jpg'\n",
      " 'dogImages/test/032.Boston_terrier/Boston_terrier_02281.jpg'\n",
      " 'dogImages/test/091.Japanese_chin/Japanese_chin_06184.jpg'\n",
      " 'dogImages/test/042.Cairn_terrier/Cairn_terrier_02965.jpg'\n",
      " 'dogImages/test/098.Leonberger/Leonberger_06578.jpg'\n",
      " 'dogImages/test/069.French_bulldog/French_bulldog_04771.jpg'\n",
      " 'dogImages/test/056.Dachshund/Dachshund_03967.jpg'\n",
      " 'dogImages/test/095.Kuvasz/Kuvasz_06430.jpg'\n",
      " 'dogImages/test/036.Briard/Briard_02519.jpg'\n",
      " 'dogImages/test/125.Portuguese_water_dog/Portuguese_water_dog_07971.jpg'\n",
      " 'dogImages/test/019.Bedlington_terrier/Bedlington_terrier_01368.jpg'\n",
      " 'dogImages/test/019.Bedlington_terrier/Bedlington_terrier_01392.jpg'\n",
      " 'dogImages/test/092.Keeshond/Keeshond_06268.jpg'\n",
      " 'dogImages/test/113.Old_english_sheepdog/Old_english_sheepdog_07355.jpg'\n",
      " 'dogImages/test/005.Alaskan_malamute/Alaskan_malamute_00330.jpg'\n",
      " 'dogImages/test/109.Norwegian_elkhound/Norwegian_elkhound_07137.jpg'\n",
      " 'dogImages/test/029.Border_collie/Border_collie_02053.jpg'\n",
      " 'dogImages/test/023.Bernese_mountain_dog/Bernese_mountain_dog_01653.jpg'\n",
      " 'dogImages/test/106.Newfoundland/Newfoundland_07009.jpg'\n",
      " 'dogImages/test/080.Greater_swiss_mountain_dog/Greater_swiss_mountain_dog_05486.jpg'\n",
      " 'dogImages/test/035.Boykin_spaniel/Boykin_spaniel_02441.jpg'\n",
      " 'dogImages/test/039.Bull_terrier/Bull_terrier_02767.jpg'\n",
      " 'dogImages/test/004.Akita/Akita_00276.jpg'\n",
      " 'dogImages/test/118.Pembroke_welsh_corgi/Pembroke_welsh_corgi_07652.jpg'\n",
      " 'dogImages/test/081.Greyhound/Greyhound_05542.jpg'\n",
      " 'dogImages/test/130.Welsh_springer_spaniel/Welsh_springer_spaniel_08190.jpg'\n",
      " 'dogImages/test/042.Cairn_terrier/Cairn_terrier_03012.jpg'\n",
      " 'dogImages/test/027.Bloodhound/Bloodhound_01885.jpg'\n",
      " 'dogImages/test/061.English_cocker_spaniel/English_cocker_spaniel_04315.jpg'\n",
      " 'dogImages/test/002.Afghan_hound/Afghan_hound_00149.jpg'\n",
      " 'dogImages/test/101.Maltese/Maltese_06728.jpg'\n",
      " 'dogImages/test/090.Italian_greyhound/Italian_greyhound_06117.jpg'\n",
      " 'dogImages/test/088.Irish_water_spaniel/Irish_water_spaniel_06016.jpg'\n",
      " 'dogImages/test/008.American_staffordshire_terrier/American_staffordshire_terrier_00538.jpg'\n",
      " 'dogImages/test/033.Bouvier_des_flandres/Bouvier_des_flandres_02304.jpg'\n",
      " 'dogImages/test/067.Finnish_spitz/Finnish_spitz_04680.jpg'\n",
      " 'dogImages/test/033.Bouvier_des_flandres/Bouvier_des_flandres_02355.jpg'\n",
      " 'dogImages/test/014.Basenji/Basenji_00987.jpg'\n",
      " 'dogImages/test/035.Boykin_spaniel/Boykin_spaniel_02500.jpg'\n",
      " 'dogImages/test/119.Petit_basset_griffon_vendeen/Petit_basset_griffon_vendeen_07691.jpg'\n",
      " 'dogImages/test/102.Manchester_terrier/Manchester_terrier_06778.jpg'\n",
      " 'dogImages/test/104.Miniature_schnauzer/Miniature_schnauzer_06927.jpg'\n",
      " 'dogImages/test/030.Border_terrier/Border_terrier_02090.jpg'\n",
      " 'dogImages/test/097.Lakeland_terrier/Lakeland_terrier_06558.jpg'\n",
      " 'dogImages/test/011.Australian_cattle_dog/Australian_cattle_dog_00761.jpg'\n",
      " 'dogImages/test/103.Mastiff/Mastiff_06873.jpg'\n",
      " 'dogImages/test/034.Boxer/Boxer_02426.jpg'\n",
      " 'dogImages/test/096.Labrador_retriever/Labrador_retriever_06470.jpg'\n",
      " 'dogImages/test/100.Lowchen/Lowchen_06699.jpg'\n",
      " 'dogImages/test/028.Bluetick_coonhound/Bluetick_coonhound_01956.jpg'\n",
      " 'dogImages/test/133.Yorkshire_terrier/Yorkshire_terrier_08325.jpg'\n",
      " 'dogImages/test/122.Pointer/Pointer_07821.jpg'\n",
      " 'dogImages/test/043.Canaan_dog/Canaan_dog_03069.jpg'\n",
      " 'dogImages/test/038.Brussels_griffon/Brussels_griffon_02699.jpg'\n",
      " 'dogImages/test/088.Irish_water_spaniel/Irish_water_spaniel_05972.jpg'\n",
      " 'dogImages/test/058.Dandie_dinmont_terrier/Dandie_dinmont_terrier_04152.jpg'\n",
      " 'dogImages/test/101.Maltese/Maltese_06757.jpg'\n",
      " 'dogImages/test/059.Doberman_pinscher/Doberman_pinscher_04169.jpg'\n",
      " 'dogImages/test/071.German_shepherd_dog/German_shepherd_dog_04960.jpg'\n",
      " 'dogImages/test/061.English_cocker_spaniel/English_cocker_spaniel_04322.jpg'\n",
      " 'dogImages/test/030.Border_terrier/Border_terrier_02096.jpg'\n",
      " 'dogImages/test/124.Poodle/Poodle_07910.jpg'\n",
      " 'dogImages/test/038.Brussels_griffon/Brussels_griffon_02678.jpg'\n",
      " 'dogImages/test/068.Flat-coated_retriever/Flat-coated_retriever_04686.jpg'\n",
      " 'dogImages/test/128.Smooth_fox_terrier/Smooth_fox_terrier_08113.jpg'\n",
      " 'dogImages/test/103.Mastiff/Mastiff_06825.jpg'\n",
      " 'dogImages/test/040.Bulldog/Bulldog_02817.jpg'\n",
      " 'dogImages/test/082.Havanese/Havanese_05585.jpg'\n",
      " 'dogImages/test/093.Kerry_blue_terrier/Kerry_blue_terrier_06293.jpg'\n",
      " 'dogImages/test/087.Irish_terrier/Irish_terrier_05878.jpg'\n",
      " 'dogImages/test/065.Entlebucher_mountain_dog/Entlebucher_mountain_dog_04595.jpg'\n",
      " 'dogImages/test/046.Cavalier_king_charles_spaniel/Cavalier_king_charles_spaniel_03254.jpg'\n",
      " 'dogImages/test/006.American_eskimo_dog/American_eskimo_dog_00406.jpg'\n",
      " 'dogImages/test/037.Brittany/Brittany_02591.jpg'\n",
      " 'dogImages/test/094.Komondor/Komondor_06372.jpg'\n",
      " 'dogImages/test/015.Basset_hound/Basset_hound_01097.jpg'\n",
      " 'dogImages/test/131.Wirehaired_pointing_griffon/Wirehaired_pointing_griffon_08245.jpg'\n",
      " 'dogImages/test/070.German_pinscher/German_pinscher_04838.jpg'\n",
      " 'dogImages/test/022.Belgian_tervuren/Belgian_tervuren_01574.jpg'\n",
      " 'dogImages/test/020.Belgian_malinois/Belgian_malinois_01407.jpg'\n",
      " 'dogImages/test/129.Tibetan_mastiff/Tibetan_mastiff_08139.jpg'\n",
      " 'dogImages/test/070.German_pinscher/German_pinscher_04843.jpg'\n",
      " 'dogImages/test/035.Boykin_spaniel/Boykin_spaniel_02497.jpg'\n",
      " 'dogImages/test/109.Norwegian_elkhound/Norwegian_elkhound_07170.jpg'\n",
      " 'dogImages/test/008.American_staffordshire_terrier/American_staffordshire_terrier_00607.jpg'\n",
      " 'dogImages/test/011.Australian_cattle_dog/Australian_cattle_dog_00788.jpg'\n",
      " 'dogImages/test/059.Doberman_pinscher/Doberman_pinscher_04190.jpg'\n",
      " 'dogImages/test/024.Bichon_frise/Bichon_frise_01707.jpg'\n",
      " 'dogImages/test/072.German_shorthaired_pointer/German_shorthaired_pointer_04986.jpg'\n",
      " 'dogImages/test/115.Papillon/Papillon_07454.jpg'\n",
      " 'dogImages/test/052.Clumber_spaniel/Clumber_spaniel_03697.jpg'\n",
      " 'dogImages/test/057.Dalmatian/Dalmatian_04015.jpg'\n",
      " 'dogImages/test/084.Icelandic_sheepdog/Icelandic_sheepdog_05749.jpg'\n",
      " 'dogImages/test/087.Irish_terrier/Irish_terrier_05887.jpg'\n",
      " 'dogImages/test/100.Lowchen/Lowchen_06694.jpg'\n",
      " 'dogImages/test/061.English_cocker_spaniel/English_cocker_spaniel_04323.jpg'\n",
      " 'dogImages/test/044.Cane_corso/Cane_corso_03117.jpg'\n",
      " 'dogImages/test/012.Australian_shepherd/Australian_shepherd_00848.jpg'\n",
      " 'dogImages/test/071.German_shepherd_dog/German_shepherd_dog_04910.jpg'\n",
      " 'dogImages/test/011.Australian_cattle_dog/Australian_cattle_dog_00730.jpg'\n",
      " 'dogImages/test/119.Petit_basset_griffon_vendeen/Petit_basset_griffon_vendeen_07689.jpg'\n",
      " 'dogImages/test/083.Ibizan_hound/Ibizan_hound_05693.jpg'\n",
      " 'dogImages/test/028.Bluetick_coonhound/Bluetick_coonhound_01982.jpg'\n",
      " 'dogImages/test/044.Cane_corso/Cane_corso_03147.jpg'\n",
      " 'dogImages/test/076.Golden_retriever/Golden_retriever_05240.jpg'\n",
      " 'dogImages/test/001.Affenpinscher/Affenpinscher_00023.jpg'\n",
      " 'dogImages/test/132.Xoloitzcuintli/Xoloitzcuintli_08281.jpg'\n",
      " 'dogImages/test/001.Affenpinscher/Affenpinscher_00058.jpg'\n",
      " 'dogImages/test/037.Brittany/Brittany_02622.jpg'\n",
      " 'dogImages/test/110.Norwegian_lundehund/Norwegian_lundehund_07183.jpg'\n",
      " 'dogImages/test/081.Greyhound/Greyhound_05526.jpg'\n",
      " 'dogImages/test/095.Kuvasz/Kuvasz_06409.jpg'\n",
      " 'dogImages/test/044.Cane_corso/Cane_corso_03114.jpg'\n",
      " 'dogImages/test/021.Belgian_sheepdog/Belgian_sheepdog_01491.jpg'\n",
      " 'dogImages/test/048.Chihuahua/Chihuahua_03460.jpg'\n",
      " 'dogImages/test/118.Pembroke_welsh_corgi/Pembroke_welsh_corgi_07625.jpg'\n",
      " 'dogImages/test/027.Bloodhound/Bloodhound_01912.jpg'\n",
      " 'dogImages/test/118.Pembroke_welsh_corgi/Pembroke_welsh_corgi_07658.jpg'\n",
      " 'dogImages/test/070.German_pinscher/German_pinscher_04861.jpg'\n",
      " 'dogImages/test/054.Collie/Collie_03835.jpg'\n",
      " 'dogImages/test/020.Belgian_malinois/Belgian_malinois_01469.jpg'\n",
      " 'dogImages/test/056.Dachshund/Dachshund_03946.jpg'\n",
      " 'dogImages/test/054.Collie/Collie_03849.jpg'\n",
      " 'dogImages/test/050.Chinese_shar-pei/Chinese_shar-pei_03556.jpg'\n",
      " 'dogImages/test/065.Entlebucher_mountain_dog/Entlebucher_mountain_dog_04580.jpg'\n",
      " 'dogImages/test/075.Glen_of_imaal_terrier/Glen_of_imaal_terrier_05143.jpg'\n",
      " 'dogImages/test/048.Chihuahua/Chihuahua_03448.jpg'\n",
      " 'dogImages/test/056.Dachshund/Dachshund_03966.jpg'\n",
      " 'dogImages/test/005.Alaskan_malamute/Alaskan_malamute_00387.jpg'\n",
      " 'dogImages/test/003.Airedale_terrier/Airedale_terrier_00179.jpg'\n",
      " 'dogImages/test/067.Finnish_spitz/Finnish_spitz_04661.jpg'\n",
      " 'dogImages/test/044.Cane_corso/Cane_corso_03132.jpg'\n",
      " 'dogImages/test/088.Irish_water_spaniel/Irish_water_spaniel_06011.jpg'\n",
      " 'dogImages/test/007.American_foxhound/American_foxhound_00519.jpg'\n",
      " 'dogImages/test/125.Portuguese_water_dog/Portuguese_water_dog_07984.jpg'\n",
      " 'dogImages/test/101.Maltese/Maltese_06754.jpg'\n",
      " 'dogImages/test/016.Beagle/Beagle_01196.jpg'\n",
      " 'dogImages/test/083.Ibizan_hound/Ibizan_hound_05642.jpg'\n",
      " 'dogImages/test/092.Keeshond/Keeshond_06250.jpg'\n",
      " 'dogImages/test/002.Afghan_hound/Afghan_hound_00139.jpg'\n",
      " 'dogImages/test/068.Flat-coated_retriever/Flat-coated_retriever_04704.jpg'\n",
      " 'dogImages/test/010.Anatolian_shepherd_dog/Anatolian_shepherd_dog_00669.jpg'\n",
      " 'dogImages/test/086.Irish_setter/Irish_setter_05833.jpg'\n",
      " 'dogImages/test/113.Old_english_sheepdog/Old_english_sheepdog_07391.jpg'\n",
      " 'dogImages/test/098.Leonberger/Leonberger_06566.jpg'\n",
      " 'dogImages/test/029.Border_collie/Border_collie_01997.jpg'\n",
      " 'dogImages/test/123.Pomeranian/Pomeranian_07857.jpg'\n",
      " 'dogImages/test/088.Irish_water_spaniel/Irish_water_spaniel_05969.jpg'\n",
      " 'dogImages/test/035.Boykin_spaniel/Boykin_spaniel_02496.jpg'\n",
      " 'dogImages/test/001.Affenpinscher/Affenpinscher_00036.jpg'\n",
      " 'dogImages/test/131.Wirehaired_pointing_griffon/Wirehaired_pointing_griffon_08275.jpg'\n",
      " 'dogImages/test/098.Leonberger/Leonberger_06576.jpg'\n",
      " 'dogImages/test/116.Parson_russell_terrier/Parson_russell_terrier_07539.jpg'\n",
      " 'dogImages/test/091.Japanese_chin/Japanese_chin_06174.jpg'\n",
      " 'dogImages/test/072.German_shorthaired_pointer/German_shorthaired_pointer_04970.jpg'\n",
      " 'dogImages/test/121.Plott/Plott_07795.jpg'\n",
      " 'dogImages/test/118.Pembroke_welsh_corgi/Pembroke_welsh_corgi_07673.jpg'\n",
      " 'dogImages/test/060.Dogue_de_bordeaux/Dogue_de_bordeaux_04259.jpg'\n",
      " 'dogImages/test/036.Briard/Briard_02560.jpg'\n",
      " 'dogImages/test/073.German_wirehaired_pointer/German_wirehaired_pointer_05064.jpg'\n",
      " 'dogImages/test/120.Pharaoh_hound/Pharaoh_hound_07724.jpg'\n",
      " 'dogImages/test/036.Briard/Briard_02539.jpg'\n",
      " 'dogImages/test/112.Nova_scotia_duck_tolling_retriever/Nova_scotia_duck_tolling_retriever_07294.jpg'\n",
      " 'dogImages/test/063.English_springer_spaniel/English_springer_spaniel_04486.jpg'\n",
      " 'dogImages/test/046.Cavalier_king_charles_spaniel/Cavalier_king_charles_spaniel_03294.jpg'\n",
      " 'dogImages/test/101.Maltese/Maltese_06766.jpg'\n",
      " 'dogImages/test/010.Anatolian_shepherd_dog/Anatolian_shepherd_dog_00695.jpg'\n",
      " 'dogImages/test/007.American_foxhound/American_foxhound_00512.jpg'\n",
      " 'dogImages/test/050.Chinese_shar-pei/Chinese_shar-pei_03555.jpg'\n",
      " 'dogImages/test/063.English_springer_spaniel/English_springer_spaniel_04484.jpg'\n",
      " 'dogImages/test/046.Cavalier_king_charles_spaniel/Cavalier_king_charles_spaniel_03323.jpg'\n",
      " 'dogImages/test/016.Beagle/Beagle_01130.jpg'\n",
      " 'dogImages/test/005.Alaskan_malamute/Alaskan_malamute_00383.jpg'\n",
      " 'dogImages/test/032.Boston_terrier/Boston_terrier_02301.jpg'\n",
      " 'dogImages/test/007.American_foxhound/American_foxhound_00484.jpg'\n",
      " 'dogImages/test/032.Boston_terrier/Boston_terrier_02287.jpg'\n",
      " 'dogImages/test/051.Chow_chow/Chow_chow_03592.jpg'\n",
      " 'dogImages/test/124.Poodle/Poodle_07949.jpg'\n",
      " 'dogImages/test/031.Borzoi/Borzoi_02162.jpg'\n",
      " 'dogImages/test/046.Cavalier_king_charles_spaniel/Cavalier_king_charles_spaniel_03291.jpg'\n",
      " 'dogImages/test/061.English_cocker_spaniel/English_cocker_spaniel_04347.jpg'\n",
      " 'dogImages/test/011.Australian_cattle_dog/Australian_cattle_dog_00734.jpg'\n",
      " 'dogImages/test/009.American_water_spaniel/American_water_spaniel_00631.jpg'\n",
      " 'dogImages/test/098.Leonberger/Leonberger_06609.jpg'\n",
      " 'dogImages/test/007.American_foxhound/American_foxhound_00524.jpg'\n",
      " 'dogImages/test/051.Chow_chow/Chow_chow_03599.jpg'\n",
      " 'dogImages/test/070.German_pinscher/German_pinscher_04875.jpg'\n",
      " 'dogImages/test/068.Flat-coated_retriever/Flat-coated_retriever_04754.jpg'\n",
      " 'dogImages/test/071.German_shepherd_dog/German_shepherd_dog_04961.jpg'\n",
      " 'dogImages/test/090.Italian_greyhound/Italian_greyhound_06146.jpg'\n",
      " 'dogImages/test/039.Bull_terrier/Bull_terrier_02750.jpg'\n",
      " 'dogImages/test/005.Alaskan_malamute/Alaskan_malamute_00360.jpg'\n",
      " 'dogImages/test/094.Komondor/Komondor_06378.jpg'\n",
      " 'dogImages/test/085.Irish_red_and_white_setter/Irish_red_and_white_setter_05800.jpg'\n",
      " 'dogImages/test/091.Japanese_chin/Japanese_chin_06168.jpg'\n",
      " 'dogImages/test/016.Beagle/Beagle_01144.jpg'\n",
      " 'dogImages/test/002.Afghan_hound/Afghan_hound_00143.jpg'\n",
      " 'dogImages/test/021.Belgian_sheepdog/Belgian_sheepdog_01540.jpg'\n",
      " 'dogImages/test/038.Brussels_griffon/Brussels_griffon_02667.jpg'\n",
      " 'dogImages/test/063.English_springer_spaniel/English_springer_spaniel_04457.jpg'\n",
      " 'dogImages/test/017.Bearded_collie/Bearded_collie_01227.jpg'\n",
      " 'dogImages/test/050.Chinese_shar-pei/Chinese_shar-pei_03568.jpg'\n",
      " 'dogImages/test/024.Bichon_frise/Bichon_frise_01760.jpg'\n",
      " 'dogImages/test/053.Cocker_spaniel/Cocker_spaniel_03743.jpg'\n",
      " 'dogImages/test/034.Boxer/Boxer_02371.jpg'\n",
      " 'dogImages/test/014.Basenji/Basenji_00955.jpg'\n",
      " 'dogImages/test/084.Icelandic_sheepdog/Icelandic_sheepdog_05746.jpg'\n",
      " 'dogImages/test/041.Bullmastiff/Bullmastiff_02950.jpg'\n",
      " 'dogImages/test/112.Nova_scotia_duck_tolling_retriever/Nova_scotia_duck_tolling_retriever_07318.jpg'\n",
      " 'dogImages/test/121.Plott/Plott_07797.jpg'\n",
      " 'dogImages/test/125.Portuguese_water_dog/Portuguese_water_dog_07975.jpg'\n",
      " 'dogImages/test/071.German_shepherd_dog/German_shepherd_dog_04955.jpg'\n",
      " 'dogImages/test/046.Cavalier_king_charles_spaniel/Cavalier_king_charles_spaniel_03326.jpg'\n",
      " 'dogImages/test/055.Curly-coated_retriever/Curly-coated_retriever_03887.jpg'\n",
      " 'dogImages/test/083.Ibizan_hound/Ibizan_hound_05688.jpg'\n",
      " 'dogImages/test/037.Brittany/Brittany_02633.jpg'\n",
      " 'dogImages/test/096.Labrador_retriever/Labrador_retriever_06466.jpg'\n",
      " 'dogImages/test/044.Cane_corso/Cane_corso_03161.jpg'\n",
      " 'dogImages/test/120.Pharaoh_hound/Pharaoh_hound_07741.jpg'\n",
      " 'dogImages/test/033.Bouvier_des_flandres/Bouvier_des_flandres_02339.jpg'\n",
      " 'dogImages/test/003.Airedale_terrier/Airedale_terrier_00175.jpg'\n",
      " 'dogImages/test/063.English_springer_spaniel/English_springer_spaniel_04440.jpg'\n",
      " 'dogImages/test/056.Dachshund/Dachshund_03987.jpg'\n",
      " 'dogImages/test/105.Neapolitan_mastiff/Neapolitan_mastiff_06937.jpg'\n",
      " 'dogImages/test/043.Canaan_dog/Canaan_dog_03073.jpg'\n",
      " 'dogImages/test/048.Chihuahua/Chihuahua_03427.jpg'\n",
      " 'dogImages/test/041.Bullmastiff/Bullmastiff_02904.jpg'\n",
      " 'dogImages/test/057.Dalmatian/Dalmatian_04047.jpg'\n",
      " 'dogImages/test/049.Chinese_crested/Chinese_crested_03524.jpg'\n",
      " 'dogImages/test/079.Great_pyrenees/Great_pyrenees_05413.jpg'\n",
      " 'dogImages/test/118.Pembroke_welsh_corgi/Pembroke_welsh_corgi_07622.jpg'\n",
      " 'dogImages/test/034.Boxer/Boxer_02379.jpg'\n",
      " 'dogImages/test/041.Bullmastiff/Bullmastiff_02881.jpg'\n",
      " 'dogImages/test/053.Cocker_spaniel/Cocker_spaniel_03740.jpg'\n",
      " 'dogImages/test/023.Bernese_mountain_dog/Bernese_mountain_dog_01638.jpg'\n",
      " 'dogImages/test/026.Black_russian_terrier/Black_russian_terrier_01827.jpg'\n",
      " 'dogImages/test/115.Papillon/Papillon_07498.jpg'\n",
      " 'dogImages/test/064.English_toy_spaniel/English_toy_spaniel_04509.jpg'\n",
      " 'dogImages/test/006.American_eskimo_dog/American_eskimo_dog_00454.jpg'\n",
      " 'dogImages/test/089.Irish_wolfhound/Irish_wolfhound_06050.jpg'\n",
      " 'dogImages/test/131.Wirehaired_pointing_griffon/Wirehaired_pointing_griffon_08267.jpg'\n",
      " 'dogImages/test/011.Australian_cattle_dog/Australian_cattle_dog_00781.jpg'\n",
      " 'dogImages/test/064.English_toy_spaniel/English_toy_spaniel_04532.jpg'\n",
      " 'dogImages/test/027.Bloodhound/Bloodhound_01923.jpg'\n",
      " 'dogImages/test/039.Bull_terrier/Bull_terrier_02789.jpg'\n",
      " 'dogImages/test/063.English_springer_spaniel/English_springer_spaniel_04452.jpg'\n",
      " 'dogImages/test/065.Entlebucher_mountain_dog/Entlebucher_mountain_dog_04561.jpg'\n",
      " 'dogImages/test/042.Cairn_terrier/Cairn_terrier_03028.jpg'\n",
      " 'dogImages/test/003.Airedale_terrier/Airedale_terrier_00214.jpg'\n",
      " 'dogImages/test/087.Irish_terrier/Irish_terrier_05903.jpg'\n",
      " 'dogImages/test/035.Boykin_spaniel/Boykin_spaniel_02484.jpg'\n",
      " 'dogImages/test/034.Boxer/Boxer_02381.jpg'\n",
      " 'dogImages/test/132.Xoloitzcuintli/Xoloitzcuintli_08312.jpg'\n",
      " 'dogImages/test/005.Alaskan_malamute/Alaskan_malamute_00362.jpg'\n",
      " 'dogImages/test/011.Australian_cattle_dog/Australian_cattle_dog_00803.jpg'\n",
      " 'dogImages/test/021.Belgian_sheepdog/Belgian_sheepdog_01554.jpg'\n",
      " 'dogImages/test/113.Old_english_sheepdog/Old_english_sheepdog_07359.jpg'\n",
      " 'dogImages/test/096.Labrador_retriever/Labrador_retriever_06478.jpg'\n",
      " 'dogImages/test/015.Basset_hound/Basset_hound_01067.jpg'\n",
      " 'dogImages/test/096.Labrador_retriever/Labrador_retriever_06472.jpg'\n",
      " 'dogImages/test/052.Clumber_spaniel/Clumber_spaniel_03702.jpg'\n",
      " 'dogImages/test/013.Australian_terrier/Australian_terrier_00900.jpg'\n",
      " 'dogImages/test/075.Glen_of_imaal_terrier/Glen_of_imaal_terrier_05129.jpg'\n",
      " 'dogImages/test/118.Pembroke_welsh_corgi/Pembroke_welsh_corgi_07672.jpg'\n",
      " 'dogImages/test/130.Welsh_springer_spaniel/Welsh_springer_spaniel_08214.jpg'\n",
      " 'dogImages/test/029.Border_collie/Border_collie_02056.jpg'\n",
      " 'dogImages/test/050.Chinese_shar-pei/Chinese_shar-pei_03580.jpg'\n",
      " 'dogImages/test/022.Belgian_tervuren/Belgian_tervuren_01601.jpg'\n",
      " 'dogImages/test/033.Bouvier_des_flandres/Bouvier_des_flandres_02328.jpg'\n",
      " 'dogImages/test/026.Black_russian_terrier/Black_russian_terrier_01837.jpg'\n",
      " 'dogImages/test/117.Pekingese/Pekingese_07568.jpg'\n",
      " 'dogImages/test/112.Nova_scotia_duck_tolling_retriever/Nova_scotia_duck_tolling_retriever_07287.jpg'\n",
      " 'dogImages/test/077.Gordon_setter/Gordon_setter_05310.jpg'\n",
      " 'dogImages/test/104.Miniature_schnauzer/Miniature_schnauzer_06901.jpg'\n",
      " 'dogImages/test/021.Belgian_sheepdog/Belgian_sheepdog_01488.jpg'\n",
      " 'dogImages/test/058.Dandie_dinmont_terrier/Dandie_dinmont_terrier_04131.jpg'\n",
      " 'dogImages/test/071.German_shepherd_dog/German_shepherd_dog_04938.jpg'\n",
      " 'dogImages/test/060.Dogue_de_bordeaux/Dogue_de_bordeaux_04235.jpg'\n",
      " 'dogImages/test/057.Dalmatian/Dalmatian_04006.jpg'\n",
      " 'dogImages/test/009.American_water_spaniel/American_water_spaniel_00655.jpg'\n",
      " 'dogImages/test/049.Chinese_crested/Chinese_crested_03489.jpg'\n",
      " 'dogImages/test/069.French_bulldog/French_bulldog_04824.jpg'\n",
      " 'dogImages/test/037.Brittany/Brittany_02648.jpg'\n",
      " 'dogImages/test/022.Belgian_tervuren/Belgian_tervuren_01561.jpg'\n",
      " 'dogImages/test/048.Chihuahua/Chihuahua_03403.jpg'\n",
      " 'dogImages/test/082.Havanese/Havanese_05625.jpg'\n",
      " 'dogImages/test/107.Norfolk_terrier/Norfolk_terrier_07059.jpg'\n",
      " 'dogImages/test/047.Chesapeake_bay_retriever/Chesapeake_bay_retriever_03395.jpg'\n",
      " 'dogImages/test/084.Icelandic_sheepdog/Icelandic_sheepdog_05719.jpg'\n",
      " 'dogImages/test/077.Gordon_setter/Gordon_setter_05265.jpg'\n",
      " 'dogImages/test/053.Cocker_spaniel/Cocker_spaniel_03759.jpg'\n",
      " 'dogImages/test/074.Giant_schnauzer/Giant_schnauzer_05107.jpg'\n",
      " 'dogImages/test/032.Boston_terrier/Boston_terrier_02260.jpg'\n",
      " 'dogImages/test/085.Irish_red_and_white_setter/Irish_red_and_white_setter_05766.jpg'\n",
      " 'dogImages/test/108.Norwegian_buhund/Norwegian_buhund_07120.jpg'\n",
      " 'dogImages/test/030.Border_terrier/Border_terrier_02148.jpg'\n",
      " 'dogImages/test/117.Pekingese/Pekingese_07582.jpg'\n",
      " 'dogImages/test/068.Flat-coated_retriever/Flat-coated_retriever_04742.jpg'\n",
      " 'dogImages/test/095.Kuvasz/Kuvasz_06388.jpg'\n",
      " 'dogImages/test/113.Old_english_sheepdog/Old_english_sheepdog_07390.jpg'\n",
      " 'dogImages/test/002.Afghan_hound/Afghan_hound_00151.jpg'\n",
      " 'dogImages/test/034.Boxer/Boxer_02413.jpg'\n",
      " 'dogImages/test/047.Chesapeake_bay_retriever/Chesapeake_bay_retriever_03390.jpg'\n",
      " 'dogImages/test/001.Affenpinscher/Affenpinscher_00071.jpg'\n",
      " 'dogImages/test/062.English_setter/English_setter_04385.jpg'\n",
      " 'dogImages/test/056.Dachshund/Dachshund_03996.jpg'\n",
      " 'dogImages/test/014.Basenji/Basenji_01009.jpg'\n",
      " 'dogImages/test/042.Cairn_terrier/Cairn_terrier_02979.jpg'\n",
      " 'dogImages/test/117.Pekingese/Pekingese_07558.jpg'\n",
      " 'dogImages/test/111.Norwich_terrier/Norwich_terrier_07227.jpg'\n",
      " 'dogImages/test/042.Cairn_terrier/Cairn_terrier_02975.jpg'\n",
      " 'dogImages/test/007.American_foxhound/American_foxhound_00522.jpg'\n",
      " 'dogImages/test/012.Australian_shepherd/Australian_shepherd_00887.jpg'\n",
      " 'dogImages/test/076.Golden_retriever/Golden_retriever_05220.jpg'\n",
      " 'dogImages/test/069.French_bulldog/French_bulldog_04816.jpg'\n",
      " 'dogImages/test/055.Curly-coated_retriever/Curly-coated_retriever_03863.jpg'\n",
      " 'dogImages/test/030.Border_terrier/Border_terrier_02136.jpg'\n",
      " 'dogImages/test/090.Italian_greyhound/Italian_greyhound_06115.jpg'\n",
      " 'dogImages/test/049.Chinese_crested/Chinese_crested_03498.jpg'\n",
      " 'dogImages/test/029.Border_collie/Border_collie_02006.jpg'\n",
      " 'dogImages/test/066.Field_spaniel/Field_spaniel_04619.jpg'\n",
      " 'dogImages/test/026.Black_russian_terrier/Black_russian_terrier_01849.jpg'\n",
      " 'dogImages/test/095.Kuvasz/Kuvasz_06420.jpg'\n",
      " 'dogImages/test/099.Lhasa_apso/Lhasa_apso_06666.jpg'\n",
      " 'dogImages/test/027.Bloodhound/Bloodhound_01900.jpg'\n",
      " 'dogImages/test/079.Great_pyrenees/Great_pyrenees_05367.jpg'\n",
      " 'dogImages/test/018.Beauceron/Beauceron_01284.jpg'\n",
      " 'dogImages/test/032.Boston_terrier/Boston_terrier_02294.jpg'\n",
      " 'dogImages/test/023.Bernese_mountain_dog/Bernese_mountain_dog_01657.jpg'\n",
      " 'dogImages/test/024.Bichon_frise/Bichon_frise_01753.jpg'\n",
      " 'dogImages/test/043.Canaan_dog/Canaan_dog_03082.jpg'\n",
      " 'dogImages/test/044.Cane_corso/Cane_corso_03110.jpg'\n",
      " 'dogImages/test/127.Silky_terrier/Silky_terrier_08055.jpg'\n",
      " 'dogImages/test/092.Keeshond/Keeshond_06270.jpg'\n",
      " 'dogImages/test/029.Border_collie/Border_collie_02008.jpg'\n",
      " 'dogImages/test/074.Giant_schnauzer/Giant_schnauzer_05122.jpg'\n",
      " 'dogImages/test/104.Miniature_schnauzer/Miniature_schnauzer_06892.jpg'\n",
      " 'dogImages/test/013.Australian_terrier/Australian_terrier_00930.jpg'\n",
      " 'dogImages/test/068.Flat-coated_retriever/Flat-coated_retriever_04725.jpg'\n",
      " 'dogImages/test/108.Norwegian_buhund/Norwegian_buhund_07124.jpg'\n",
      " 'dogImages/test/055.Curly-coated_retriever/Curly-coated_retriever_03893.jpg'\n",
      " 'dogImages/test/011.Australian_cattle_dog/Australian_cattle_dog_00728.jpg'\n",
      " 'dogImages/test/012.Australian_shepherd/Australian_shepherd_00870.jpg'\n",
      " 'dogImages/test/070.German_pinscher/German_pinscher_04863.jpg'\n",
      " 'dogImages/test/024.Bichon_frise/Bichon_frise_01757.jpg'\n",
      " 'dogImages/test/089.Irish_wolfhound/Irish_wolfhound_06052.jpg'\n",
      " 'dogImages/test/001.Affenpinscher/Affenpinscher_00003.jpg'\n",
      " 'dogImages/test/006.American_eskimo_dog/American_eskimo_dog_00467.jpg'\n",
      " 'dogImages/test/023.Bernese_mountain_dog/Bernese_mountain_dog_01646.jpg'\n",
      " 'dogImages/test/098.Leonberger/Leonberger_06617.jpg'\n",
      " 'dogImages/test/062.English_setter/English_setter_04429.jpg'\n",
      " 'dogImages/test/015.Basset_hound/Basset_hound_01044.jpg'\n",
      " 'dogImages/test/059.Doberman_pinscher/Doberman_pinscher_04194.jpg'\n",
      " 'dogImages/test/018.Beauceron/Beauceron_01292.jpg'\n",
      " 'dogImages/test/076.Golden_retriever/Golden_retriever_05234.jpg'\n",
      " 'dogImages/test/031.Borzoi/Borzoi_02166.jpg'\n",
      " 'dogImages/test/116.Parson_russell_terrier/Parson_russell_terrier_07549.jpg'\n",
      " 'dogImages/test/045.Cardigan_welsh_corgi/Cardigan_welsh_corgi_03204.jpg'\n",
      " 'dogImages/test/094.Komondor/Komondor_06366.jpg'\n",
      " 'dogImages/test/014.Basenji/Basenji_00985.jpg'\n",
      " 'dogImages/test/085.Irish_red_and_white_setter/Irish_red_and_white_setter_05789.jpg'\n",
      " 'dogImages/test/015.Basset_hound/Basset_hound_01059.jpg'\n",
      " 'dogImages/test/029.Border_collie/Border_collie_02081.jpg'\n",
      " 'dogImages/test/079.Great_pyrenees/Great_pyrenees_05415.jpg'\n",
      " 'dogImages/test/054.Collie/Collie_03794.jpg'\n",
      " 'dogImages/test/099.Lhasa_apso/Lhasa_apso_06651.jpg'\n",
      " 'dogImages/test/034.Boxer/Boxer_02414.jpg'\n",
      " 'dogImages/test/127.Silky_terrier/Silky_terrier_08074.jpg'\n",
      " 'dogImages/test/083.Ibizan_hound/Ibizan_hound_05697.jpg'\n",
      " 'dogImages/test/017.Bearded_collie/Bearded_collie_01215.jpg'\n",
      " 'dogImages/test/018.Beauceron/Beauceron_01303.jpg'\n",
      " 'dogImages/test/087.Irish_terrier/Irish_terrier_05912.jpg'\n",
      " 'dogImages/test/071.German_shepherd_dog/German_shepherd_dog_04912.jpg'\n",
      " 'dogImages/test/051.Chow_chow/Chow_chow_03591.jpg'\n",
      " 'dogImages/test/128.Smooth_fox_terrier/Smooth_fox_terrier_08110.jpg'\n",
      " 'dogImages/test/031.Borzoi/Borzoi_02181.jpg'\n",
      " 'dogImages/test/004.Akita/Akita_00270.jpg'\n",
      " 'dogImages/test/060.Dogue_de_bordeaux/Dogue_de_bordeaux_04256.jpg'\n",
      " 'dogImages/test/076.Golden_retriever/Golden_retriever_05258.jpg'\n",
      " 'dogImages/test/086.Irish_setter/Irish_setter_05816.jpg'\n",
      " 'dogImages/test/070.German_pinscher/German_pinscher_04876.jpg'\n",
      " 'dogImages/test/082.Havanese/Havanese_05576.jpg'\n",
      " 'dogImages/test/001.Affenpinscher/Affenpinscher_00047.jpg'\n",
      " 'dogImages/test/018.Beauceron/Beauceron_01299.jpg'\n",
      " 'dogImages/test/045.Cardigan_welsh_corgi/Cardigan_welsh_corgi_03200.jpg'\n",
      " 'dogImages/test/049.Chinese_crested/Chinese_crested_03490.jpg'\n",
      " 'dogImages/test/063.English_springer_spaniel/English_springer_spaniel_04446.jpg'\n",
      " 'dogImages/test/025.Black_and_tan_coonhound/Black_and_tan_coonhound_01803.jpg'\n",
      " 'dogImages/test/093.Kerry_blue_terrier/Kerry_blue_terrier_06316.jpg'\n",
      " 'dogImages/test/041.Bullmastiff/Bullmastiff_02921.jpg'\n",
      " 'dogImages/test/109.Norwegian_elkhound/Norwegian_elkhound_07180.jpg'\n",
      " 'dogImages/test/057.Dalmatian/Dalmatian_04076.jpg'\n",
      " 'dogImages/test/054.Collie/Collie_03790.jpg'\n",
      " 'dogImages/test/089.Irish_wolfhound/Irish_wolfhound_06063.jpg'\n",
      " 'dogImages/test/115.Papillon/Papillon_07451.jpg'\n",
      " 'dogImages/test/129.Tibetan_mastiff/Tibetan_mastiff_08158.jpg'\n",
      " 'dogImages/test/115.Papillon/Papillon_07466.jpg'\n",
      " 'dogImages/test/031.Borzoi/Borzoi_02183.jpg'\n",
      " 'dogImages/test/102.Manchester_terrier/Manchester_terrier_06805.jpg'\n",
      " 'dogImages/test/046.Cavalier_king_charles_spaniel/Cavalier_king_charles_spaniel_03253.jpg'\n",
      " 'dogImages/test/051.Chow_chow/Chow_chow_03637.jpg'\n",
      " 'dogImages/test/082.Havanese/Havanese_05574.jpg'\n",
      " 'dogImages/test/046.Cavalier_king_charles_spaniel/Cavalier_king_charles_spaniel_03258.jpg'\n",
      " 'dogImages/test/130.Welsh_springer_spaniel/Welsh_springer_spaniel_08215.jpg'\n",
      " 'dogImages/test/058.Dandie_dinmont_terrier/Dandie_dinmont_terrier_04134.jpg'\n",
      " 'dogImages/test/094.Komondor/Komondor_06382.jpg'\n",
      " 'dogImages/test/082.Havanese/Havanese_05631.jpg'\n",
      " 'dogImages/test/124.Poodle/Poodle_07904.jpg'\n",
      " 'dogImages/test/056.Dachshund/Dachshund_03991.jpg'\n",
      " 'dogImages/test/057.Dalmatian/Dalmatian_04060.jpg'\n",
      " 'dogImages/test/009.American_water_spaniel/American_water_spaniel_00624.jpg'\n",
      " 'dogImages/test/082.Havanese/Havanese_05571.jpg'\n",
      " 'dogImages/test/096.Labrador_retriever/Labrador_retriever_06465.jpg'\n",
      " 'dogImages/test/050.Chinese_shar-pei/Chinese_shar-pei_03546.jpg'\n",
      " 'dogImages/test/067.Finnish_spitz/Finnish_spitz_04651.jpg'\n",
      " 'dogImages/test/091.Japanese_chin/Japanese_chin_06225.jpg'\n",
      " 'dogImages/test/130.Welsh_springer_spaniel/Welsh_springer_spaniel_08227.jpg'\n",
      " 'dogImages/test/015.Basset_hound/Basset_hound_01085.jpg'\n",
      " 'dogImages/test/076.Golden_retriever/Golden_retriever_05248.jpg'\n",
      " 'dogImages/test/112.Nova_scotia_duck_tolling_retriever/Nova_scotia_duck_tolling_retriever_07291.jpg'\n",
      " 'dogImages/test/003.Airedale_terrier/Airedale_terrier_00210.jpg'\n",
      " 'dogImages/test/009.American_water_spaniel/American_water_spaniel_00646.jpg'\n",
      " 'dogImages/test/041.Bullmastiff/Bullmastiff_02948.jpg'\n",
      " 'dogImages/test/017.Bearded_collie/Bearded_collie_01221.jpg'\n",
      " 'dogImages/test/036.Briard/Briard_02540.jpg'\n",
      " 'dogImages/test/074.Giant_schnauzer/Giant_schnauzer_05104.jpg'\n",
      " 'dogImages/test/133.Yorkshire_terrier/Yorkshire_terrier_08326.jpg'\n",
      " 'dogImages/test/068.Flat-coated_retriever/Flat-coated_retriever_04745.jpg'\n",
      " 'dogImages/test/058.Dandie_dinmont_terrier/Dandie_dinmont_terrier_04138.jpg'\n",
      " 'dogImages/test/086.Irish_setter/Irish_setter_05819.jpg'\n",
      " 'dogImages/test/047.Chesapeake_bay_retriever/Chesapeake_bay_retriever_03339.jpg'\n",
      " 'dogImages/test/053.Cocker_spaniel/Cocker_spaniel_03779.jpg'\n",
      " 'dogImages/test/105.Neapolitan_mastiff/Neapolitan_mastiff_06951.jpg'\n",
      " 'dogImages/test/018.Beauceron/Beauceron_01319.jpg'\n",
      " 'dogImages/test/014.Basenji/Basenji_01029.jpg'\n",
      " 'dogImages/test/001.Affenpinscher/Affenpinscher_00078.jpg'\n",
      " 'dogImages/test/047.Chesapeake_bay_retriever/Chesapeake_bay_retriever_03374.jpg'\n",
      " 'dogImages/test/060.Dogue_de_bordeaux/Dogue_de_bordeaux_04258.jpg'\n",
      " 'dogImages/test/117.Pekingese/Pekingese_07594.jpg'\n",
      " 'dogImages/test/043.Canaan_dog/Canaan_dog_03066.jpg'\n",
      " 'dogImages/test/104.Miniature_schnauzer/Miniature_schnauzer_06916.jpg'\n",
      " 'dogImages/test/058.Dandie_dinmont_terrier/Dandie_dinmont_terrier_04108.jpg'\n",
      " 'dogImages/test/084.Icelandic_sheepdog/Icelandic_sheepdog_05753.jpg'\n",
      " 'dogImages/test/107.Norfolk_terrier/Norfolk_terrier_07056.jpg'\n",
      " 'dogImages/test/056.Dachshund/Dachshund_04003.jpg'\n",
      " 'dogImages/test/025.Black_and_tan_coonhound/Black_and_tan_coonhound_01801.jpg'\n",
      " 'dogImages/test/083.Ibizan_hound/Ibizan_hound_05682.jpg'\n",
      " 'dogImages/test/049.Chinese_crested/Chinese_crested_03484.jpg'\n",
      " 'dogImages/test/076.Golden_retriever/Golden_retriever_05250.jpg'\n",
      " 'dogImages/test/021.Belgian_sheepdog/Belgian_sheepdog_01482.jpg'\n",
      " 'dogImages/test/007.American_foxhound/American_foxhound_00535.jpg'\n",
      " 'dogImages/test/005.Alaskan_malamute/Alaskan_malamute_00309.jpg'\n",
      " 'dogImages/test/047.Chesapeake_bay_retriever/Chesapeake_bay_retriever_03386.jpg'\n",
      " 'dogImages/test/114.Otterhound/Otterhound_07394.jpg'\n",
      " 'dogImages/test/014.Basenji/Basenji_00974.jpg'\n",
      " 'dogImages/test/075.Glen_of_imaal_terrier/Glen_of_imaal_terrier_05148.jpg'\n",
      " 'dogImages/test/103.Mastiff/Mastiff_06836.jpg'\n",
      " 'dogImages/test/122.Pointer/Pointer_07838.jpg'\n",
      " 'dogImages/test/033.Bouvier_des_flandres/Bouvier_des_flandres_02305.jpg'\n",
      " 'dogImages/test/110.Norwegian_lundehund/Norwegian_lundehund_07222.jpg'\n",
      " 'dogImages/test/008.American_staffordshire_terrier/American_staffordshire_terrier_00539.jpg'\n",
      " 'dogImages/test/056.Dachshund/Dachshund_03953.jpg'\n",
      " 'dogImages/test/008.American_staffordshire_terrier/American_staffordshire_terrier_00579.jpg'\n",
      " 'dogImages/test/101.Maltese/Maltese_06718.jpg'\n",
      " 'dogImages/test/069.French_bulldog/French_bulldog_04806.jpg'\n",
      " 'dogImages/test/065.Entlebucher_mountain_dog/Entlebucher_mountain_dog_04597.jpg'\n",
      " 'dogImages/test/078.Great_dane/Great_dane_05326.jpg'\n",
      " 'dogImages/test/092.Keeshond/Keeshond_06280.jpg'\n",
      " 'dogImages/test/036.Briard/Briard_02575.jpg'\n",
      " 'dogImages/test/076.Golden_retriever/Golden_retriever_05241.jpg'\n",
      " 'dogImages/test/037.Brittany/Brittany_02601.jpg'\n",
      " 'dogImages/test/067.Finnish_spitz/Finnish_spitz_04648.jpg'\n",
      " 'dogImages/test/119.Petit_basset_griffon_vendeen/Petit_basset_griffon_vendeen_07714.jpg'\n",
      " 'dogImages/test/004.Akita/Akita_00244.jpg'\n",
      " 'dogImages/test/029.Border_collie/Border_collie_02039.jpg'\n",
      " 'dogImages/test/054.Collie/Collie_03851.jpg'\n",
      " 'dogImages/test/109.Norwegian_elkhound/Norwegian_elkhound_07132.jpg'\n",
      " 'dogImages/test/099.Lhasa_apso/Lhasa_apso_06620.jpg'\n",
      " 'dogImages/test/023.Bernese_mountain_dog/Bernese_mountain_dog_01617.jpg'\n",
      " 'dogImages/test/005.Alaskan_malamute/Alaskan_malamute_00386.jpg'\n",
      " 'dogImages/test/073.German_wirehaired_pointer/German_wirehaired_pointer_05040.jpg'\n",
      " 'dogImages/test/114.Otterhound/Otterhound_07435.jpg'\n",
      " 'dogImages/test/133.Yorkshire_terrier/Yorkshire_terrier_08346.jpg'\n",
      " 'dogImages/test/041.Bullmastiff/Bullmastiff_02954.jpg'\n",
      " 'dogImages/test/114.Otterhound/Otterhound_07405.jpg'\n",
      " 'dogImages/test/080.Greater_swiss_mountain_dog/Greater_swiss_mountain_dog_05451.jpg'\n",
      " 'dogImages/test/074.Giant_schnauzer/Giant_schnauzer_05120.jpg'\n",
      " 'dogImages/test/126.Saint_bernard/Saint_bernard_08036.jpg'\n",
      " 'dogImages/test/022.Belgian_tervuren/Belgian_tervuren_01585.jpg'\n",
      " 'dogImages/test/017.Bearded_collie/Bearded_collie_01205.jpg'\n",
      " 'dogImages/test/021.Belgian_sheepdog/Belgian_sheepdog_01486.jpg'\n",
      " 'dogImages/test/046.Cavalier_king_charles_spaniel/Cavalier_king_charles_spaniel_03321.jpg'\n",
      " 'dogImages/test/008.American_staffordshire_terrier/American_staffordshire_terrier_00567.jpg'\n",
      " 'dogImages/test/103.Mastiff/Mastiff_06815.jpg'\n",
      " 'dogImages/test/042.Cairn_terrier/Cairn_terrier_03004.jpg'\n",
      " 'dogImages/test/120.Pharaoh_hound/Pharaoh_hound_07747.jpg'\n",
      " 'dogImages/test/069.French_bulldog/French_bulldog_04822.jpg'\n",
      " 'dogImages/test/097.Lakeland_terrier/Lakeland_terrier_06517.jpg'\n",
      " 'dogImages/test/062.English_setter/English_setter_04399.jpg'\n",
      " 'dogImages/test/085.Irish_red_and_white_setter/Irish_red_and_white_setter_05772.jpg'\n",
      " 'dogImages/test/060.Dogue_de_bordeaux/Dogue_de_bordeaux_04281.jpg'\n",
      " 'dogImages/test/087.Irish_terrier/Irish_terrier_05924.jpg'\n",
      " 'dogImages/test/114.Otterhound/Otterhound_07430.jpg'\n",
      " 'dogImages/test/030.Border_terrier/Border_terrier_02141.jpg'\n",
      " 'dogImages/test/081.Greyhound/Greyhound_05565.jpg'\n",
      " 'dogImages/test/039.Bull_terrier/Bull_terrier_02775.jpg'\n",
      " 'dogImages/test/048.Chihuahua/Chihuahua_03411.jpg'\n",
      " 'dogImages/test/082.Havanese/Havanese_05614.jpg'\n",
      " 'dogImages/test/001.Affenpinscher/Affenpinscher_00048.jpg'\n",
      " 'dogImages/test/100.Lowchen/Lowchen_06685.jpg'\n",
      " 'dogImages/test/064.English_toy_spaniel/English_toy_spaniel_04542.jpg'\n",
      " 'dogImages/test/095.Kuvasz/Kuvasz_06404.jpg'\n",
      " 'dogImages/test/090.Italian_greyhound/Italian_greyhound_06119.jpg'\n",
      " 'dogImages/test/112.Nova_scotia_duck_tolling_retriever/Nova_scotia_duck_tolling_retriever_07316.jpg'\n",
      " 'dogImages/test/074.Giant_schnauzer/Giant_schnauzer_05102.jpg'\n",
      " 'dogImages/test/115.Papillon/Papillon_07440.jpg'\n",
      " 'dogImages/test/130.Welsh_springer_spaniel/Welsh_springer_spaniel_08237.jpg'\n",
      " 'dogImages/test/039.Bull_terrier/Bull_terrier_02727.jpg'\n",
      " 'dogImages/test/039.Bull_terrier/Bull_terrier_02803.jpg'\n",
      " 'dogImages/test/066.Field_spaniel/Field_spaniel_04616.jpg'\n",
      " 'dogImages/test/059.Doberman_pinscher/Doberman_pinscher_04177.jpg'\n",
      " 'dogImages/test/039.Bull_terrier/Bull_terrier_02773.jpg'\n",
      " 'dogImages/test/016.Beagle/Beagle_01155.jpg'\n",
      " 'dogImages/test/129.Tibetan_mastiff/Tibetan_mastiff_08156.jpg'\n",
      " 'dogImages/test/002.Afghan_hound/Afghan_hound_00146.jpg'\n",
      " 'dogImages/test/079.Great_pyrenees/Great_pyrenees_05365.jpg'\n",
      " 'dogImages/test/063.English_springer_spaniel/English_springer_spaniel_04453.jpg'\n",
      " 'dogImages/test/125.Portuguese_water_dog/Portuguese_water_dog_07963.jpg'\n",
      " 'dogImages/test/021.Belgian_sheepdog/Belgian_sheepdog_01555.jpg'\n",
      " 'dogImages/test/128.Smooth_fox_terrier/Smooth_fox_terrier_08128.jpg'\n",
      " 'dogImages/test/081.Greyhound/Greyhound_05560.jpg'\n",
      " 'dogImages/test/099.Lhasa_apso/Lhasa_apso_06668.jpg'\n",
      " 'dogImages/test/091.Japanese_chin/Japanese_chin_06166.jpg'\n",
      " 'dogImages/test/027.Bloodhound/Bloodhound_01906.jpg'\n",
      " 'dogImages/test/026.Black_russian_terrier/Black_russian_terrier_01868.jpg'\n",
      " 'dogImages/test/077.Gordon_setter/Gordon_setter_05274.jpg'\n",
      " 'dogImages/test/022.Belgian_tervuren/Belgian_tervuren_01588.jpg'\n",
      " 'dogImages/test/015.Basset_hound/Basset_hound_01034.jpg'\n",
      " 'dogImages/test/003.Airedale_terrier/Airedale_terrier_00166.jpg'\n",
      " 'dogImages/test/097.Lakeland_terrier/Lakeland_terrier_06550.jpg'\n",
      " 'dogImages/test/078.Great_dane/Great_dane_05322.jpg'\n",
      " 'dogImages/test/045.Cardigan_welsh_corgi/Cardigan_welsh_corgi_03241.jpg'\n",
      " 'dogImages/test/068.Flat-coated_retriever/Flat-coated_retriever_04711.jpg'\n",
      " 'dogImages/test/071.German_shepherd_dog/German_shepherd_dog_04886.jpg'\n",
      " 'dogImages/test/111.Norwich_terrier/Norwich_terrier_07240.jpg'\n",
      " 'dogImages/test/056.Dachshund/Dachshund_03995.jpg'\n",
      " 'dogImages/test/090.Italian_greyhound/Italian_greyhound_06153.jpg'\n",
      " 'dogImages/test/013.Australian_terrier/Australian_terrier_00918.jpg'\n",
      " 'dogImages/test/060.Dogue_de_bordeaux/Dogue_de_bordeaux_04246.jpg'\n",
      " 'dogImages/test/012.Australian_shepherd/Australian_shepherd_00836.jpg'\n",
      " 'dogImages/test/107.Norfolk_terrier/Norfolk_terrier_07046.jpg'\n",
      " 'dogImages/test/095.Kuvasz/Kuvasz_06429.jpg'\n",
      " 'dogImages/test/057.Dalmatian/Dalmatian_04059.jpg'\n",
      " 'dogImages/test/129.Tibetan_mastiff/Tibetan_mastiff_08138.jpg'\n",
      " 'dogImages/test/089.Irish_wolfhound/Irish_wolfhound_06030.jpg'\n",
      " 'dogImages/test/112.Nova_scotia_duck_tolling_retriever/Nova_scotia_duck_tolling_retriever_07281.jpg'\n",
      " 'dogImages/test/117.Pekingese/Pekingese_07581.jpg'\n",
      " 'dogImages/test/044.Cane_corso/Cane_corso_03172.jpg'\n",
      " 'dogImages/test/080.Greater_swiss_mountain_dog/Greater_swiss_mountain_dog_05473.jpg'\n",
      " 'dogImages/test/049.Chinese_crested/Chinese_crested_03508.jpg'\n",
      " 'dogImages/test/010.Anatolian_shepherd_dog/Anatolian_shepherd_dog_00673.jpg'\n",
      " 'dogImages/test/073.German_wirehaired_pointer/German_wirehaired_pointer_05043.jpg'\n",
      " 'dogImages/test/072.German_shorthaired_pointer/German_shorthaired_pointer_04980.jpg'\n",
      " 'dogImages/test/047.Chesapeake_bay_retriever/Chesapeake_bay_retriever_03358.jpg'\n",
      " 'dogImages/test/031.Borzoi/Borzoi_02154.jpg'\n",
      " 'dogImages/test/119.Petit_basset_griffon_vendeen/Petit_basset_griffon_vendeen_07715.jpg'\n",
      " 'dogImages/test/020.Belgian_malinois/Belgian_malinois_01441.jpg'\n",
      " 'dogImages/test/040.Bulldog/Bulldog_02842.jpg'\n",
      " 'dogImages/test/004.Akita/Akita_00296.jpg'\n",
      " 'dogImages/test/015.Basset_hound/Basset_hound_01106.jpg'\n",
      " 'dogImages/test/072.German_shorthaired_pointer/German_shorthaired_pointer_04974.jpg'\n",
      " 'dogImages/test/113.Old_english_sheepdog/Old_english_sheepdog_07376.jpg'\n",
      " 'dogImages/test/127.Silky_terrier/Silky_terrier_08084.jpg'\n",
      " 'dogImages/test/024.Bichon_frise/Bichon_frise_01719.jpg'\n",
      " 'dogImages/test/023.Bernese_mountain_dog/Bernese_mountain_dog_01622.jpg'\n",
      " 'dogImages/test/048.Chihuahua/Chihuahua_03405.jpg'\n",
      " 'dogImages/test/052.Clumber_spaniel/Clumber_spaniel_03703.jpg'\n",
      " 'dogImages/test/103.Mastiff/Mastiff_06827.jpg'\n",
      " 'dogImages/test/111.Norwich_terrier/Norwich_terrier_07253.jpg'\n",
      " 'dogImages/test/107.Norfolk_terrier/Norfolk_terrier_07081.jpg'\n",
      " 'dogImages/test/094.Komondor/Komondor_06376.jpg'\n",
      " 'dogImages/test/026.Black_russian_terrier/Black_russian_terrier_01840.jpg'\n",
      " 'dogImages/test/018.Beauceron/Beauceron_01310.jpg'\n",
      " 'dogImages/test/062.English_setter/English_setter_04379.jpg'\n",
      " 'dogImages/test/106.Newfoundland/Newfoundland_06979.jpg'\n",
      " 'dogImages/test/035.Boykin_spaniel/Boykin_spaniel_02501.jpg'\n",
      " 'dogImages/test/112.Nova_scotia_duck_tolling_retriever/Nova_scotia_duck_tolling_retriever_07331.jpg'\n",
      " 'dogImages/test/040.Bulldog/Bulldog_02845.jpg'\n",
      " 'dogImages/test/122.Pointer/Pointer_07812.jpg'\n",
      " 'dogImages/test/132.Xoloitzcuintli/Xoloitzcuintli_08294.jpg'\n",
      " 'dogImages/test/032.Boston_terrier/Boston_terrier_02291.jpg'\n",
      " 'dogImages/test/005.Alaskan_malamute/Alaskan_malamute_00354.jpg'\n",
      " 'dogImages/test/012.Australian_shepherd/Australian_shepherd_00868.jpg'\n",
      " 'dogImages/test/006.American_eskimo_dog/American_eskimo_dog_00452.jpg'\n",
      " 'dogImages/test/047.Chesapeake_bay_retriever/Chesapeake_bay_retriever_03361.jpg'\n",
      " 'dogImages/test/008.American_staffordshire_terrier/American_staffordshire_terrier_00580.jpg'\n",
      " 'dogImages/test/124.Poodle/Poodle_07923.jpg'\n",
      " 'dogImages/test/027.Bloodhound/Bloodhound_01934.jpg'\n",
      " 'dogImages/test/059.Doberman_pinscher/Doberman_pinscher_04203.jpg'\n",
      " 'dogImages/test/091.Japanese_chin/Japanese_chin_06169.jpg'\n",
      " 'dogImages/test/055.Curly-coated_retriever/Curly-coated_retriever_03884.jpg'\n",
      " 'dogImages/test/041.Bullmastiff/Bullmastiff_02946.jpg'\n",
      " 'dogImages/test/011.Australian_cattle_dog/Australian_cattle_dog_00727.jpg'\n",
      " 'dogImages/test/055.Curly-coated_retriever/Curly-coated_retriever_03870.jpg'\n",
      " 'dogImages/test/079.Great_pyrenees/Great_pyrenees_05395.jpg'\n",
      " 'dogImages/test/084.Icelandic_sheepdog/Icelandic_sheepdog_05701.jpg'\n",
      " 'dogImages/test/078.Great_dane/Great_dane_05323.jpg'\n",
      " 'dogImages/test/123.Pomeranian/Pomeranian_07858.jpg'\n",
      " 'dogImages/test/124.Poodle/Poodle_07903.jpg'\n",
      " 'dogImages/test/106.Newfoundland/Newfoundland_06984.jpg'\n",
      " 'dogImages/test/030.Border_terrier/Border_terrier_02110.jpg'\n",
      " 'dogImages/test/077.Gordon_setter/Gordon_setter_05312.jpg'\n",
      " 'dogImages/test/103.Mastiff/Mastiff_06878.jpg'\n",
      " 'dogImages/test/090.Italian_greyhound/Italian_greyhound_06149.jpg'\n",
      " 'dogImages/test/058.Dandie_dinmont_terrier/Dandie_dinmont_terrier_04142.jpg'\n",
      " 'dogImages/test/018.Beauceron/Beauceron_01328.jpg'\n",
      " 'dogImages/test/029.Border_collie/Border_collie_02077.jpg'\n",
      " 'dogImages/test/089.Irish_wolfhound/Irish_wolfhound_06071.jpg'\n",
      " 'dogImages/test/106.Newfoundland/Newfoundland_06996.jpg'\n",
      " 'dogImages/test/105.Neapolitan_mastiff/Neapolitan_mastiff_06958.jpg'\n",
      " 'dogImages/test/110.Norwegian_lundehund/Norwegian_lundehund_07218.jpg'\n",
      " 'dogImages/test/118.Pembroke_welsh_corgi/Pembroke_welsh_corgi_07619.jpg'\n",
      " 'dogImages/test/032.Boston_terrier/Boston_terrier_02297.jpg'\n",
      " 'dogImages/test/010.Anatolian_shepherd_dog/Anatolian_shepherd_dog_00661.jpg'\n",
      " 'dogImages/test/004.Akita/Akita_00262.jpg'\n",
      " 'dogImages/test/053.Cocker_spaniel/Cocker_spaniel_03748.jpg'\n",
      " 'dogImages/test/030.Border_terrier/Border_terrier_02097.jpg'\n",
      " 'dogImages/test/017.Bearded_collie/Bearded_collie_01233.jpg'\n",
      " 'dogImages/test/048.Chihuahua/Chihuahua_03420.jpg'\n",
      " 'dogImages/test/015.Basset_hound/Basset_hound_01080.jpg'\n",
      " 'dogImages/test/022.Belgian_tervuren/Belgian_tervuren_01607.jpg'\n",
      " 'dogImages/test/029.Border_collie/Border_collie_02035.jpg'\n",
      " 'dogImages/test/061.English_cocker_spaniel/English_cocker_spaniel_04313.jpg'\n",
      " 'dogImages/test/079.Great_pyrenees/Great_pyrenees_05425.jpg'\n",
      " 'dogImages/test/038.Brussels_griffon/Brussels_griffon_02707.jpg'\n",
      " 'dogImages/test/107.Norfolk_terrier/Norfolk_terrier_07054.jpg'\n",
      " 'dogImages/test/086.Irish_setter/Irish_setter_05818.jpg'\n",
      " 'dogImages/test/099.Lhasa_apso/Lhasa_apso_06619.jpg'\n",
      " 'dogImages/test/075.Glen_of_imaal_terrier/Glen_of_imaal_terrier_05149.jpg'\n",
      " 'dogImages/test/040.Bulldog/Bulldog_02834.jpg'\n",
      " 'dogImages/test/066.Field_spaniel/Field_spaniel_04608.jpg'\n",
      " 'dogImages/test/045.Cardigan_welsh_corgi/Cardigan_welsh_corgi_03202.jpg'\n",
      " 'dogImages/test/016.Beagle/Beagle_01156.jpg'\n",
      " 'dogImages/test/072.German_shorthaired_pointer/German_shorthaired_pointer_04971.jpg'\n",
      " 'dogImages/test/032.Boston_terrier/Boston_terrier_02256.jpg'\n",
      " 'dogImages/test/086.Irish_setter/Irish_setter_05860.jpg'\n",
      " 'dogImages/test/061.English_cocker_spaniel/English_cocker_spaniel_04359.jpg'\n",
      " 'dogImages/test/016.Beagle/Beagle_01141.jpg'\n",
      " 'dogImages/test/065.Entlebucher_mountain_dog/Entlebucher_mountain_dog_04559.jpg'\n",
      " 'dogImages/test/004.Akita/Akita_00263.jpg'\n",
      " 'dogImages/test/015.Basset_hound/Basset_hound_01071.jpg'\n",
      " 'dogImages/test/020.Belgian_malinois/Belgian_malinois_01460.jpg'\n",
      " 'dogImages/test/020.Belgian_malinois/Belgian_malinois_01472.jpg'\n",
      " 'dogImages/test/076.Golden_retriever/Golden_retriever_05221.jpg'\n",
      " 'dogImages/test/090.Italian_greyhound/Italian_greyhound_06137.jpg'\n",
      " 'dogImages/test/064.English_toy_spaniel/English_toy_spaniel_04513.jpg'\n",
      " 'dogImages/test/087.Irish_terrier/Irish_terrier_05890.jpg'\n",
      " 'dogImages/test/019.Bedlington_terrier/Bedlington_terrier_01340.jpg'\n",
      " 'dogImages/test/036.Briard/Briard_02542.jpg'\n",
      " 'dogImages/test/045.Cardigan_welsh_corgi/Cardigan_welsh_corgi_03182.jpg'\n",
      " 'dogImages/test/115.Papillon/Papillon_07461.jpg'\n",
      " 'dogImages/test/034.Boxer/Boxer_02439.jpg'\n",
      " 'dogImages/test/062.English_setter/English_setter_04412.jpg'\n",
      " 'dogImages/test/057.Dalmatian/Dalmatian_04021.jpg'\n",
      " 'dogImages/test/088.Irish_water_spaniel/Irish_water_spaniel_05983.jpg'\n",
      " 'dogImages/test/003.Airedale_terrier/Airedale_terrier_00207.jpg'\n",
      " 'dogImages/test/045.Cardigan_welsh_corgi/Cardigan_welsh_corgi_03240.jpg'\n",
      " 'dogImages/test/041.Bullmastiff/Bullmastiff_02929.jpg'\n",
      " 'dogImages/test/038.Brussels_griffon/Brussels_griffon_02656.jpg'\n",
      " 'dogImages/test/031.Borzoi/Borzoi_02203.jpg'\n",
      " 'dogImages/test/013.Australian_terrier/Australian_terrier_00923.jpg'\n",
      " 'dogImages/test/073.German_wirehaired_pointer/German_wirehaired_pointer_05060.jpg'\n",
      " 'dogImages/test/093.Kerry_blue_terrier/Kerry_blue_terrier_06291.jpg'\n",
      " 'dogImages/test/039.Bull_terrier/Bull_terrier_02772.jpg'\n",
      " 'dogImages/test/040.Bulldog/Bulldog_02828.jpg'\n",
      " 'dogImages/test/086.Irish_setter/Irish_setter_05812.jpg'\n",
      " 'dogImages/test/127.Silky_terrier/Silky_terrier_08057.jpg'\n",
      " 'dogImages/test/061.English_cocker_spaniel/English_cocker_spaniel_04354.jpg'\n",
      " 'dogImages/test/025.Black_and_tan_coonhound/Black_and_tan_coonhound_01795.jpg'\n",
      " 'dogImages/test/051.Chow_chow/Chow_chow_03660.jpg'\n",
      " 'dogImages/test/111.Norwich_terrier/Norwich_terrier_07277.jpg'\n",
      " 'dogImages/test/128.Smooth_fox_terrier/Smooth_fox_terrier_08116.jpg'\n",
      " 'dogImages/test/038.Brussels_griffon/Brussels_griffon_02716.jpg'\n",
      " 'dogImages/test/120.Pharaoh_hound/Pharaoh_hound_07750.jpg'\n",
      " 'dogImages/test/024.Bichon_frise/Bichon_frise_01767.jpg'\n",
      " 'dogImages/test/005.Alaskan_malamute/Alaskan_malamute_00346.jpg'\n",
      " 'dogImages/test/011.Australian_cattle_dog/Australian_cattle_dog_00792.jpg'\n",
      " 'dogImages/test/042.Cairn_terrier/Cairn_terrier_03022.jpg'\n",
      " 'dogImages/test/002.Afghan_hound/Afghan_hound_00141.jpg'\n",
      " 'dogImages/test/006.American_eskimo_dog/American_eskimo_dog_00451.jpg'\n",
      " 'dogImages/test/012.Australian_shepherd/Australian_shepherd_00853.jpg'\n",
      " 'dogImages/test/005.Alaskan_malamute/Alaskan_malamute_00375.jpg'\n",
      " 'dogImages/test/129.Tibetan_mastiff/Tibetan_mastiff_08140.jpg'\n",
      " 'dogImages/test/008.American_staffordshire_terrier/American_staffordshire_terrier_00556.jpg'\n",
      " 'dogImages/test/006.American_eskimo_dog/American_eskimo_dog_00407.jpg'\n",
      " 'dogImages/test/057.Dalmatian/Dalmatian_04030.jpg'\n",
      " 'dogImages/test/081.Greyhound/Greyhound_05552.jpg'\n",
      " 'dogImages/test/029.Border_collie/Border_collie_02051.jpg'\n",
      " 'dogImages/test/020.Belgian_malinois/Belgian_malinois_01452.jpg'\n",
      " 'dogImages/test/086.Irish_setter/Irish_setter_05851.jpg'\n",
      " 'dogImages/test/016.Beagle/Beagle_01197.jpg'\n",
      " 'dogImages/test/083.Ibizan_hound/Ibizan_hound_05679.jpg'\n",
      " 'dogImages/test/014.Basenji/Basenji_00959.jpg'\n",
      " 'dogImages/test/052.Clumber_spaniel/Clumber_spaniel_03712.jpg'\n",
      " 'dogImages/test/017.Bearded_collie/Bearded_collie_01253.jpg'\n",
      " 'dogImages/test/105.Neapolitan_mastiff/Neapolitan_mastiff_06945.jpg'\n",
      " 'dogImages/test/004.Akita/Akita_00258.jpg'\n",
      " 'dogImages/test/111.Norwich_terrier/Norwich_terrier_07229.jpg'\n",
      " 'dogImages/test/080.Greater_swiss_mountain_dog/Greater_swiss_mountain_dog_05469.jpg'\n",
      " 'dogImages/test/051.Chow_chow/Chow_chow_03654.jpg'\n",
      " 'dogImages/test/073.German_wirehaired_pointer/German_wirehaired_pointer_05027.jpg'\n",
      " 'dogImages/test/053.Cocker_spaniel/Cocker_spaniel_03765.jpg'\n",
      " 'dogImages/test/028.Bluetick_coonhound/Bluetick_coonhound_01968.jpg'\n",
      " 'dogImages/test/051.Chow_chow/Chow_chow_03608.jpg'\n",
      " 'dogImages/test/080.Greater_swiss_mountain_dog/Greater_swiss_mountain_dog_05464.jpg'\n",
      " 'dogImages/test/089.Irish_wolfhound/Irish_wolfhound_06022.jpg'\n",
      " 'dogImages/test/054.Collie/Collie_03819.jpg'\n",
      " 'dogImages/test/041.Bullmastiff/Bullmastiff_02876.jpg'\n",
      " 'dogImages/test/103.Mastiff/Mastiff_06847.jpg'\n",
      " 'dogImages/test/036.Briard/Briard_02521.jpg'\n",
      " 'dogImages/test/088.Irish_water_spaniel/Irish_water_spaniel_05975.jpg'\n",
      " 'dogImages/test/027.Bloodhound/Bloodhound_01921.jpg'\n",
      " 'dogImages/test/013.Australian_terrier/Australian_terrier_00925.jpg'\n",
      " 'dogImages/test/126.Saint_bernard/Saint_bernard_08019.jpg'\n",
      " 'dogImages/test/122.Pointer/Pointer_07827.jpg'\n",
      " 'dogImages/test/023.Bernese_mountain_dog/Bernese_mountain_dog_01632.jpg'\n",
      " 'dogImages/test/084.Icelandic_sheepdog/Icelandic_sheepdog_05733.jpg'\n",
      " 'dogImages/test/042.Cairn_terrier/Cairn_terrier_03010.jpg'\n",
      " 'dogImages/test/081.Greyhound/Greyhound_05539.jpg'\n",
      " 'dogImages/test/052.Clumber_spaniel/Clumber_spaniel_03680.jpg'\n",
      " 'dogImages/test/109.Norwegian_elkhound/Norwegian_elkhound_07163.jpg'\n",
      " 'dogImages/test/031.Borzoi/Borzoi_02220.jpg'\n",
      " 'dogImages/test/097.Lakeland_terrier/Lakeland_terrier_06539.jpg'\n",
      " 'dogImages/test/019.Bedlington_terrier/Bedlington_terrier_01381.jpg'\n",
      " 'dogImages/test/024.Bichon_frise/Bichon_frise_01759.jpg'\n",
      " 'dogImages/test/017.Bearded_collie/Bearded_collie_01274.jpg'\n",
      " 'dogImages/test/123.Pomeranian/Pomeranian_07897.jpg'\n",
      " 'dogImages/test/006.American_eskimo_dog/American_eskimo_dog_00471.jpg'\n",
      " 'dogImages/test/045.Cardigan_welsh_corgi/Cardigan_welsh_corgi_03185.jpg'\n",
      " 'dogImages/test/028.Bluetick_coonhound/Bluetick_coonhound_01989.jpg'\n",
      " 'dogImages/test/012.Australian_shepherd/Australian_shepherd_00843.jpg'\n",
      " 'dogImages/test/092.Keeshond/Keeshond_06264.jpg'\n",
      " 'dogImages/test/082.Havanese/Havanese_05566.jpg'\n",
      " 'dogImages/test/089.Irish_wolfhound/Irish_wolfhound_06029.jpg'\n",
      " 'dogImages/test/055.Curly-coated_retriever/Curly-coated_retriever_03901.jpg'\n",
      " 'dogImages/test/013.Australian_terrier/Australian_terrier_00897.jpg'\n",
      " 'dogImages/test/012.Australian_shepherd/Australian_shepherd_00830.jpg'\n",
      " 'dogImages/test/060.Dogue_de_bordeaux/Dogue_de_bordeaux_04216.jpg'\n",
      " 'dogImages/test/016.Beagle/Beagle_01150.jpg'\n",
      " 'dogImages/test/040.Bulldog/Bulldog_02846.jpg'\n",
      " 'dogImages/test/008.American_staffordshire_terrier/American_staffordshire_terrier_00540.jpg'\n",
      " 'dogImages/test/044.Cane_corso/Cane_corso_03166.jpg'\n",
      " 'dogImages/test/036.Briard/Briard_02533.jpg'\n",
      " 'dogImages/test/123.Pomeranian/Pomeranian_07861.jpg'\n",
      " 'dogImages/test/061.English_cocker_spaniel/English_cocker_spaniel_04333.jpg'\n",
      " 'dogImages/test/006.American_eskimo_dog/American_eskimo_dog_00415.jpg'\n",
      " 'dogImages/test/090.Italian_greyhound/Italian_greyhound_06114.jpg'\n",
      " 'dogImages/test/054.Collie/Collie_03834.jpg'\n",
      " 'dogImages/test/046.Cavalier_king_charles_spaniel/Cavalier_king_charles_spaniel_03309.jpg'\n",
      " 'dogImages/test/038.Brussels_griffon/Brussels_griffon_02701.jpg'\n",
      " 'dogImages/test/116.Parson_russell_terrier/Parson_russell_terrier_07531.jpg'\n",
      " 'dogImages/test/069.French_bulldog/French_bulldog_04813.jpg'\n",
      " 'dogImages/test/079.Great_pyrenees/Great_pyrenees_05422.jpg'\n",
      " 'dogImages/test/007.American_foxhound/American_foxhound_00531.jpg'\n",
      " 'dogImages/test/121.Plott/Plott_07792.jpg'\n",
      " 'dogImages/test/017.Bearded_collie/Bearded_collie_01231.jpg'\n",
      " 'dogImages/test/004.Akita/Akita_00282.jpg'\n",
      " 'dogImages/test/025.Black_and_tan_coonhound/Black_and_tan_coonhound_01789.jpg'\n",
      " 'dogImages/test/064.English_toy_spaniel/English_toy_spaniel_04508.jpg'\n",
      " 'dogImages/test/072.German_shorthaired_pointer/German_shorthaired_pointer_04981.jpg'\n",
      " 'dogImages/test/100.Lowchen/Lowchen_06696.jpg'\n",
      " 'dogImages/test/020.Belgian_malinois/Belgian_malinois_01471.jpg'\n",
      " 'dogImages/test/034.Boxer/Boxer_02397.jpg'\n",
      " 'dogImages/test/108.Norwegian_buhund/Norwegian_buhund_07111.jpg'\n",
      " 'dogImages/test/078.Great_dane/Great_dane_05329.jpg'\n",
      " 'dogImages/test/078.Great_dane/Great_dane_05363.jpg'\n",
      " 'dogImages/test/093.Kerry_blue_terrier/Kerry_blue_terrier_06310.jpg'\n",
      " 'dogImages/test/104.Miniature_schnauzer/Miniature_schnauzer_06930.jpg'\n",
      " 'dogImages/test/037.Brittany/Brittany_02607.jpg'\n",
      " 'dogImages/test/040.Bulldog/Bulldog_02835.jpg'\n",
      " 'dogImages/test/058.Dandie_dinmont_terrier/Dandie_dinmont_terrier_04155.jpg'\n",
      " 'dogImages/test/020.Belgian_malinois/Belgian_malinois_01445.jpg'\n",
      " 'dogImages/test/097.Lakeland_terrier/Lakeland_terrier_06528.jpg'\n",
      " 'dogImages/test/124.Poodle/Poodle_07925.jpg'\n",
      " 'dogImages/test/127.Silky_terrier/Silky_terrier_08040.jpg'\n",
      " 'dogImages/test/024.Bichon_frise/Bichon_frise_01726.jpg'\n",
      " 'dogImages/test/014.Basenji/Basenji_00961.jpg'\n",
      " 'dogImages/test/062.English_setter/English_setter_04398.jpg'\n",
      " 'dogImages/test/060.Dogue_de_bordeaux/Dogue_de_bordeaux_04221.jpg'\n",
      " 'dogImages/test/107.Norfolk_terrier/Norfolk_terrier_07052.jpg'\n",
      " 'dogImages/test/116.Parson_russell_terrier/Parson_russell_terrier_07529.jpg'\n",
      " 'dogImages/test/015.Basset_hound/Basset_hound_01121.jpg'\n",
      " 'dogImages/test/120.Pharaoh_hound/Pharaoh_hound_07728.jpg'\n",
      " 'dogImages/test/010.Anatolian_shepherd_dog/Anatolian_shepherd_dog_00710.jpg'\n",
      " 'dogImages/test/077.Gordon_setter/Gordon_setter_05280.jpg'\n",
      " 'dogImages/test/101.Maltese/Maltese_06716.jpg'\n",
      " 'dogImages/test/129.Tibetan_mastiff/Tibetan_mastiff_08171.jpg'\n",
      " 'dogImages/test/023.Bernese_mountain_dog/Bernese_mountain_dog_01682.jpg'\n",
      " 'dogImages/test/012.Australian_shepherd/Australian_shepherd_00864.jpg'\n",
      " 'dogImages/test/079.Great_pyrenees/Great_pyrenees_05424.jpg'\n",
      " 'dogImages/test/069.French_bulldog/French_bulldog_04804.jpg'\n",
      " 'dogImages/test/106.Newfoundland/Newfoundland_07007.jpg'\n",
      " 'dogImages/test/043.Canaan_dog/Canaan_dog_03084.jpg'\n",
      " 'dogImages/test/055.Curly-coated_retriever/Curly-coated_retriever_03889.jpg'\n",
      " 'dogImages/test/087.Irish_terrier/Irish_terrier_05900.jpg'\n",
      " 'dogImages/test/066.Field_spaniel/Field_spaniel_04622.jpg'\n",
      " 'dogImages/test/010.Anatolian_shepherd_dog/Anatolian_shepherd_dog_00690.jpg'\n",
      " 'dogImages/test/087.Irish_terrier/Irish_terrier_05895.jpg'\n",
      " 'dogImages/test/126.Saint_bernard/Saint_bernard_08020.jpg'\n",
      " 'dogImages/test/115.Papillon/Papillon_07514.jpg'\n",
      " 'dogImages/test/039.Bull_terrier/Bull_terrier_02745.jpg'\n",
      " 'dogImages/test/110.Norwegian_lundehund/Norwegian_lundehund_07186.jpg'\n",
      " 'dogImages/test/002.Afghan_hound/Afghan_hound_00125.jpg'\n",
      " 'dogImages/test/050.Chinese_shar-pei/Chinese_shar-pei_03535.jpg'\n",
      " 'dogImages/test/106.Newfoundland/Newfoundland_07010.jpg'\n",
      " 'dogImages/test/117.Pekingese/Pekingese_07585.jpg'\n",
      " 'dogImages/test/027.Bloodhound/Bloodhound_01871.jpg'\n",
      " 'dogImages/test/091.Japanese_chin/Japanese_chin_06175.jpg'\n",
      " 'dogImages/test/081.Greyhound/Greyhound_05530.jpg'\n",
      " 'dogImages/test/102.Manchester_terrier/Manchester_terrier_06799.jpg']\n",
      "[ 56  58 114  18  67  20  42  51  96  50   1  18  74 132  70  13 122  31\n",
      "  90  41  97  68  55  94  35 124  18  18  91 112   4 108  28  22 105  79\n",
      "  34  38   3 117  80 129  41  26  60   1 100  89  87   7  32  66  32  13\n",
      "  34 118 101 103  29  96  10 102  33  95  99  27 132 121  42  37  87  57\n",
      " 100  58  70  60  29 123  37  67 127 102  39  81  92  86  64  45   5  36\n",
      "  93  14 130  69  21  19 128  69  34 108   7  10  58  23  71 114  51  56\n",
      "  83  86  99  60  43  11  70  10 118  82  27  43  75   0 131   0  36 109\n",
      "  80  94  43  20  47 117  26 117  69  53  19  55  53  49  64  74  47  55\n",
      "   4   2  66  43  87   6 124 100  15  82  91   1  67   9  85 112  97  28\n",
      " 122  87  34   0 130  97 115  90  71 120 117  59  35  72 119  35 111  62\n",
      "  45 100   9   6  49  62  45  15   4  31   6  31  50 123  30  45  60  10\n",
      "   8  97   6  50  69  67  70  89  38   4  93  84  90  15   1  20  37  62\n",
      "  16  49  23  52  33  13  83  40 111 120 124  70  45  54  82  36  95  43\n",
      " 119  32   2  62  55 104  42  47  40  56  48  78 117  33  40  52  22  25\n",
      " 114  63   5  88 130  10  63  26  38  62  64  41   2  86  34  33 131   4\n",
      "  10  20 112  95  14  95  51  12  74 117 129  28  49  21  32  25 116 111\n",
      "  76 103  20  57  70  59  56   8  48  68  36  21  47  81 106  46  83  76\n",
      "  52  73  31  84 107  29 116  67  94 112   1  33  46   0  61  55  13  41\n",
      " 116 110  41   6  11  75  68  54  29  89  48  28  65  25  94  98  26  78\n",
      "  17  31  22  23  42  43 126  91  28  73 103  12  67 107  54  10  11  69\n",
      "  23  88   0   5  22  97  61  14  58  17  75  30 115  44  93  13  84  14\n",
      "  28  78  53  98  33 126  82  16  17  86  70  50 127  30   3  59  75  85\n",
      "  69  81   0  17  44  48  62  24  92  40 108  56  53  88 114 128 114  30\n",
      " 101  45  50  81  45 129  57  93  81 123  55  56   8  81  95  49  66  90\n",
      " 129  14  75 111   2   8  40  16  35  73 132  67  57  85  46  52 104  17\n",
      "  13   0  46  59 116  42 103  57  83 106  55  24  82  48  75  20   6   4\n",
      "  46 113  13  74 102 121  32 109   7  55   7 100  68  64  77  91  35  75\n",
      "  36  66 118   3  28  53 108  98  22   4  72 113 132  40 113  79  73 125\n",
      "  21  16  20  45   7 102  41 119  68  96  61  84  59  86 113  29  80  38\n",
      "  47  81   0  99  63  94  89 111  73 114 129  38  38  65  58  38  15 128\n",
      "   1  78  62 124  20 127  80  98  90  26  25  76  21  14   2  96  77  44\n",
      "  67  70 110  55  89  12  59  11 106  94  56 128  88 111 116  43  79  48\n",
      "   9  72  71  46  30 118  19  39   3  14  71 112 126  23  22  47  51 102\n",
      " 110 106  93  25  17  61 105  34 111  39 121 131  31   4  11   5  46   7\n",
      " 123  26  58  90  54  40  10  54  78  83  77 122 123 105  29  76 102  89\n",
      "  57  17  28  88 105 104 109 117  31   9   3  52  29  16  47  14  21  28\n",
      "  60  78  37 106  85  98  74  39  65  44  15  71  31  85  60  15  64   3\n",
      "  14  19  19  75  89  63  86  18  35  44 114  33  61  56  87   2  44  40\n",
      "  37  30  12  72  92  38  39  85 126  60  24  50 110 127  37 119  23   4\n",
      "  10  41   1   5  11   4 128   7   5  56  80  28  19  85  15  82  13  51\n",
      "  16 104   3 110  79  50  72  52  27  50  79  88  53  40 102  35  87  26\n",
      "  12 125 121  22  83  41  80  51 108  30  96  18  23  16 122   5  44  27\n",
      "  11  91  81  88  54  12  11  59  15  39   7  43  35 122  60   5  89  53\n",
      "  45  37 115  68  78   6 120  16   3  24  63  71  99  19  33 107  77  77\n",
      "  92 103  36  39  57  19  96 123 126  23  13  61  59 106 115  14 119   9\n",
      "  76 100 128  22  11  78  68 105  42  54  86  65   9  86 125 114  38 109\n",
      "   1  49 105 116  26  90  80 101]\n"
     ]
    }
   ],
   "source": [
    "\n",
    "path = 'dogImages/test'\n",
    "print(path)\n",
    "data = load_files(path)\n",
    "print(data['filenames'])\n",
    "print(data['target'])"
   ]
  },
  {
   "cell_type": "markdown",
   "metadata": {
    "deletable": true,
    "editable": true
   },
   "source": [
    "### Import Human Dataset\n",
    "\n",
    "In the code cell below, we import a dataset of human images, where the file paths are stored in the numpy array `human_files`."
   ]
  },
  {
   "cell_type": "code",
   "execution_count": 17,
   "metadata": {
    "collapsed": false
   },
   "outputs": [
    {
     "name": "stdout",
     "output_type": "stream",
     "text": [
      "[ 0.  0.  0.  0.  0.  0.  0.  0.  0.  0.  0.  0.  0.  0.  0.  0.  0.  0.\n",
      "  0.  0.  0.  0.  0.  0.  0.  0.  0.  0.  0.  0.  0.  0.  0.  0.  0.  0.\n",
      "  0.  0.  0.  0.  0.  0.  0.  0.  0.  0.  0.  0.  0.  0.  0.  0.  0.  0.\n",
      "  0.  0.  1.  0.  0.  0.  0.  0.  0.  0.  0.  0.  0.  0.  0.  0.  0.  0.\n",
      "  0.  0.  0.  0.  0.  0.  0.  0.  0.  0.  0.  0.  0.  0.  0.  0.  0.  0.\n",
      "  0.  0.  0.  0.  0.  0.  0.  0.  0.  0.  0.  0.  0.  0.  0.  0.  0.  0.\n",
      "  0.  0.  0.  0.  0.  0.  0.  0.  0.  0.  0.  0.  0.  0.  0.  0.  0.  0.\n",
      "  0.  0.  0.  0.  0.  0.  0.]\n",
      "836\n",
      "(836, 133)\n",
      "836\n",
      "['Affenpinscher', 'Afghan_hound', 'Airedale_terrier', 'Akita', 'Alaskan_malamute', 'American_eskimo_dog', 'American_foxhound', 'American_staffordshire_terrier', 'American_water_spaniel', 'Anatolian_shepherd_dog', 'Australian_cattle_dog', 'Australian_shepherd', 'Australian_terrier', 'Basenji', 'Basset_hound', 'Beagle', 'Bearded_collie', 'Beauceron', 'Bedlington_terrier', 'Belgian_malinois', 'Belgian_sheepdog', 'Belgian_tervuren', 'Bernese_mountain_dog', 'Bichon_frise', 'Black_and_tan_coonhound', 'Black_russian_terrier', 'Bloodhound', 'Bluetick_coonhound', 'Border_collie', 'Border_terrier', 'Borzoi', 'Boston_terrier', 'Bouvier_des_flandres', 'Boxer', 'Boykin_spaniel', 'Briard', 'Brittany', 'Brussels_griffon', 'Bull_terrier', 'Bulldog', 'Bullmastiff', 'Cairn_terrier', 'Canaan_dog', 'Cane_corso', 'Cardigan_welsh_corgi', 'Cavalier_king_charles_spaniel', 'Chesapeake_bay_retriever', 'Chihuahua', 'Chinese_crested', 'Chinese_shar-pei', 'Chow_chow', 'Clumber_spaniel', 'Cocker_spaniel', 'Collie', 'Curly-coated_retriever', 'Dachshund', 'Dalmatian', 'Dandie_dinmont_terrier', 'Doberman_pinscher', 'Dogue_de_bordeaux', 'English_cocker_spaniel', 'English_setter', 'English_springer_spaniel', 'English_toy_spaniel', 'Entlebucher_mountain_dog', 'Field_spaniel', 'Finnish_spitz', 'Flat-coated_retriever', 'French_bulldog', 'German_pinscher', 'German_shepherd_dog', 'German_shorthaired_pointer', 'German_wirehaired_pointer', 'Giant_schnauzer', 'Glen_of_imaal_terrier', 'Golden_retriever', 'Gordon_setter', 'Great_dane', 'Great_pyrenees', 'Greater_swiss_mountain_dog', 'Greyhound', 'Havanese', 'Ibizan_hound', 'Icelandic_sheepdog', 'Irish_red_and_white_setter', 'Irish_setter', 'Irish_terrier', 'Irish_water_spaniel', 'Irish_wolfhound', 'Italian_greyhound', 'Japanese_chin', 'Keeshond', 'Kerry_blue_terrier', 'Komondor', 'Kuvasz', 'Labrador_retriever', 'Lakeland_terrier', 'Leonberger', 'Lhasa_apso', 'Lowchen', 'Maltese', 'Manchester_terrier', 'Mastiff', 'Miniature_schnauzer', 'Neapolitan_mastiff', 'Newfoundland', 'Norfolk_terrier', 'Norwegian_buhund', 'Norwegian_elkhound', 'Norwegian_lundehund', 'Norwich_terrier', 'Nova_scotia_duck_tolling_retriever', 'Old_english_sheepdog', 'Otterhound', 'Papillon', 'Parson_russell_terrier', 'Pekingese', 'Pembroke_welsh_corgi', 'Petit_basset_griffon_vendeen', 'Pharaoh_hound', 'Plott', 'Pointer', 'Pomeranian', 'Poodle', 'Portuguese_water_dog', 'Saint_bernard', 'Silky_terrier', 'Smooth_fox_terrier', 'Tibetan_mastiff', 'Welsh_springer_spaniel', 'Wirehaired_pointing_griffon', 'Xoloitzcuintli', 'Yorkshire_terrier']\n"
     ]
    }
   ],
   "source": [
    "dog_targets = np_utils.to_categorical(np.array(data['target']), 133)\n",
    "print(dog_targets[0])\n",
    "print(len(data['target']))\n",
    "print(dog_targets.shape)\n",
    "print(len(data['filenames']))\n",
    "print(dog_names)"
   ]
  },
  {
   "cell_type": "code",
   "execution_count": 4,
   "metadata": {
    "collapsed": false,
    "deletable": true,
    "editable": true
   },
   "outputs": [
    {
     "name": "stdout",
     "output_type": "stream",
     "text": [
      "There are 13233 total human images.\n"
     ]
    }
   ],
   "source": [
    "import random\n",
    "random.seed(8675309)\n",
    "\n",
    "# load filenames in shuffled human dataset\n",
    "human_files = np.array(glob(\"lfw/*/*\"))\n",
    "random.shuffle(human_files)\n",
    "\n",
    "# print statistics about the dataset\n",
    "print('There are %d total human images.' % len(human_files))"
   ]
  },
  {
   "cell_type": "markdown",
   "metadata": {
    "deletable": true,
    "editable": true
   },
   "source": [
    "---\n",
    "<a id='step1'></a>\n",
    "## Step 1: Detect Humans\n",
    "\n",
    "We use OpenCV's implementation of [Haar feature-based cascade classifiers](http://docs.opencv.org/trunk/d7/d8b/tutorial_py_face_detection.html) to detect human faces in images.  OpenCV provides many pre-trained face detectors, stored as XML files on [github](https://github.com/opencv/opencv/tree/master/data/haarcascades).  We have downloaded one of these detectors and stored it in the `haarcascades` directory.\n",
    "\n",
    "In the next code cell, we demonstrate how to use this detector to find human faces in a sample image."
   ]
  },
  {
   "cell_type": "code",
   "execution_count": 21,
   "metadata": {
    "collapsed": false,
    "deletable": true,
    "editable": true
   },
   "outputs": [
    {
     "name": "stdout",
     "output_type": "stream",
     "text": [
      "Number of faces detected: 1\n"
     ]
    },
    {
     "data": {
      "image/png": "[encoded data removed]",
      "text/plain": [
       "<matplotlib.figure.Figure at 0x11aadbac8>"
      ]
     },
     "metadata": {},
     "output_type": "display_data"
    }
   ],
   "source": [
    "import cv2                \n",
    "import matplotlib.pyplot as plt                        \n",
    "%matplotlib inline                               \n",
    "\n",
    "# extract pre-trained face detector\n",
    "face_cascade = cv2.CascadeClassifier('haarcascades/haarcascade_frontalface_alt.xml')\n",
    "\n",
    "# load color (BGR) image\n",
    "img = cv2.imread(human_files[3])\n",
    "# convert BGR image to grayscale\n",
    "gray = cv2.cvtColor(img, cv2.COLOR_BGR2GRAY)\n",
    "\n",
    "# find faces in image\n",
    "faces = face_cascade.detectMultiScale(gray)\n",
    "\n",
    "# print number of faces detected in the image\n",
    "print('Number of faces detected:', len(faces))\n",
    "\n",
    "# get bounding box for each detected face\n",
    "for (x,y,w,h) in faces:\n",
    "    # add bounding box to color image\n",
    "    cv2.rectangle(img,(x,y),(x+w,y+h),(0,0,255),2)\n",
    "    \n",
    "# convert BGR image to RGB for plotting\n",
    "cv_rgb = cv2.cvtColor(img, cv2.COLOR_BGR2RGB)\n",
    "\n",
    "# display the image, along with bounding box\n",
    "plt.imshow(cv_rgb)\n",
    "plt.show()"
   ]
  },
  {
   "cell_type": "markdown",
   "metadata": {
    "deletable": true,
    "editable": true
   },
   "source": [
    "Before using any of the face detectors, it is standard procedure to convert the images to grayscale.  The `detectMultiScale` function executes the classifier stored in `face_cascade` and takes the grayscale image as a parameter.  \n",
    "\n",
    "In the above code, `faces` is a numpy array of detected faces, where each row corresponds to a detected face.  Each detected face is a 1D array with four entries that specifies the bounding box of the detected face.  The first two entries in the array (extracted in the above code as `x` and `y`) specify the horizontal and vertical positions of the top left corner of the bounding box.  The last two entries in the array (extracted here as `w` and `h`) specify the width and height of the box.\n",
    "\n",
    "### Write a Human Face Detector\n",
    "\n",
    "We can use this procedure to write a function that returns `True` if a human face is detected in an image and `False` otherwise.  This function, aptly named `face_detector`, takes a string-valued file path to an image as input and appears in the code block below."
   ]
  },
  {
   "cell_type": "code",
   "execution_count": 22,
   "metadata": {
    "collapsed": true,
    "deletable": true,
    "editable": true
   },
   "outputs": [],
   "source": [
    "# returns \"True\" if face is detected in image stored at img_path\n",
    "def face_detector(img_path):\n",
    "    img = cv2.imread(img_path)\n",
    "    gray = cv2.cvtColor(img, cv2.COLOR_BGR2GRAY)\n",
    "    faces = face_cascade.detectMultiScale(gray)\n",
    "    return len(faces) > 0"
   ]
  },
  {
   "cell_type": "markdown",
   "metadata": {
    "deletable": true,
    "editable": true
   },
   "source": [
    "### (IMPLEMENTATION) Assess the Human Face Detector\n",
    "\n",
    "__Question 1:__ Use the code cell below to test the performance of the `face_detector` function.  \n",
    "- What percentage of the first 100 images in `human_files` have a detected human face?  \n",
    "- What percentage of the first 100 images in `dog_files` have a detected human face? \n",
    "\n",
    "Ideally, we would like 100% of human images with a detected face and 0% of dog images with a detected face.  You will see that our algorithm falls short of this goal, but still gives acceptable performance.  We extract the file paths for the first 100 images from each of the datasets and store them in the numpy arrays `human_files_short` and `dog_files_short`.\n",
    "\n",
    "__Answer:__ "
   ]
  },
  {
   "cell_type": "code",
   "execution_count": 28,
   "metadata": {
    "collapsed": false,
    "deletable": true,
    "editable": true
   },
   "outputs": [
    {
     "name": "stdout",
     "output_type": "stream",
     "text": [
      "Accuracy on human: 98%\n",
      "Accuracy on dog: 11%\n"
     ]
    }
   ],
   "source": [
    "human_files_short = human_files[:100]\n",
    "dog_files_short = train_files[:100]\n",
    "# Do NOT modify the code above this line.\n",
    "\n",
    "## TODO: Test the performance of the face_detector algorithm \n",
    "## on the images in human_files_short and dog_files_short.\n",
    "count_detected_human = len(list(filter(lambda x: face_detector(x), human_files_short)))\n",
    "print(\"Accuracy on human: {}%\".format(count_detected_human))\n",
    "count_detected_dog = len(list(filter(lambda x: face_detector(x), dog_files_short)))\n",
    "print(\"Accuracy on dog: {}%\".format(count_detected_dog))"
   ]
  },
  {
   "cell_type": "markdown",
   "metadata": {
    "deletable": true,
    "editable": true
   },
   "source": [
    "__Question 2:__ This algorithmic choice necessitates that we communicate to the user that we accept human images only when they provide a clear view of a face (otherwise, we risk having unneccessarily frustrated users!). In your opinion, is this a reasonable expectation to pose on the user? If not, can you think of a way to detect humans in images that does not necessitate an image with a clearly presented face?\n",
    "\n",
    "__Answer:__\n",
    "\n",
    "We suggest the face detector from OpenCV as a potential way to detect human images in your algorithm, but you are free to explore other approaches, especially approaches that make use of deep learning :).  Please use the code cell below to design and test your own face detection algorithm.  If you decide to pursue this _optional_ task, report performance on each of the datasets."
   ]
  },
  {
   "cell_type": "code",
   "execution_count": null,
   "metadata": {
    "collapsed": true,
    "deletable": true,
    "editable": true
   },
   "outputs": [],
   "source": [
    "## (Optional) TODO: Report the performance of another  \n",
    "## face detection algorithm on the LFW dataset\n",
    "### Feel free to use as many code cells as needed."
   ]
  },
  {
   "cell_type": "markdown",
   "metadata": {
    "deletable": true,
    "editable": true
   },
   "source": [
    "---\n",
    "<a id='step2'></a>\n",
    "## Step 2: Detect Dogs\n",
    "\n",
    "In this section, we use a pre-trained [ResNet-50](http://ethereon.github.io/netscope/#/gist/db945b393d40bfa26006) model to detect dogs in images.  Our first line of code downloads the ResNet-50 model, along with weights that have been trained on [ImageNet](http://www.image-net.org/), a very large, very popular dataset used for image classification and other vision tasks.  ImageNet contains over 10 million URLs, each linking to an image containing an object from one of [1000 categories](https://gist.github.com/yrevar/942d3a0ac09ec9e5eb3a).  Given an image, this pre-trained ResNet-50 model returns a prediction (derived from the available categories in ImageNet) for the object that is contained in the image."
   ]
  },
  {
   "cell_type": "code",
   "execution_count": 29,
   "metadata": {
    "collapsed": false,
    "deletable": true,
    "editable": true
   },
   "outputs": [
    {
     "name": "stdout",
     "output_type": "stream",
     "text": [
      "Downloading data from https://github.com/fchollet/deep-learning-models/releases/download/v0.2/resnet50_weights_tf_dim_ordering_tf_kernels.h5\n"
     ]
    }
   ],
   "source": [
    "from keras.applications.resnet50 import ResNet50\n",
    "\n",
    "# define ResNet50 model\n",
    "ResNet50_model = ResNet50(weights='imagenet')"
   ]
  },
  {
   "cell_type": "markdown",
   "metadata": {
    "deletable": true,
    "editable": true
   },
   "source": [
    "### Pre-process the Data\n",
    "\n",
    "When using TensorFlow as backend, Keras CNNs require a 4D array (which we'll also refer to as a 4D tensor) as input, with shape\n",
    "\n",
    "$$\n",
    "(\\text{nb_samples}, \\text{rows}, \\text{columns}, \\text{channels}),\n",
    "$$\n",
    "\n",
    "where `nb_samples` corresponds to the total number of images (or samples), and `rows`, `columns`, and `channels` correspond to the number of rows, columns, and channels for each image, respectively.  \n",
    "\n",
    "The `path_to_tensor` function below takes a string-valued file path to a color image as input and returns a 4D tensor suitable for supplying to a Keras CNN.  The function first loads the image and resizes it to a square image that is $224 \\times 224$ pixels.  Next, the image is converted to an array, which is then resized to a 4D tensor.  In this case, since we are working with color images, each image has three channels.  Likewise, since we are processing a single image (or sample), the returned tensor will always have shape\n",
    "\n",
    "$$\n",
    "(1, 224, 224, 3).\n",
    "$$\n",
    "\n",
    "The `paths_to_tensor` function takes a numpy array of string-valued image paths as input and returns a 4D tensor with shape \n",
    "\n",
    "$$\n",
    "(\\text{nb_samples}, 224, 224, 3).\n",
    "$$\n",
    "\n",
    "Here, `nb_samples` is the number of samples, or number of images, in the supplied array of image paths.  It is best to think of `nb_samples` as the number of 3D tensors (where each 3D tensor corresponds to a different image) in your dataset!"
   ]
  },
  {
   "cell_type": "code",
   "execution_count": 30,
   "metadata": {
    "collapsed": true,
    "deletable": true,
    "editable": true
   },
   "outputs": [],
   "source": [
    "from keras.preprocessing import image                  \n",
    "from tqdm import tqdm\n",
    "\n",
    "def path_to_tensor(img_path):\n",
    "    # loads RGB image as PIL.Image.Image type\n",
    "    img = image.load_img(img_path, target_size=(224, 224))\n",
    "    # convert PIL.Image.Image type to 3D tensor with shape (224, 224, 3)\n",
    "    x = image.img_to_array(img)\n",
    "    # convert 3D tensor to 4D tensor with shape (1, 224, 224, 3) and return 4D tensor\n",
    "    return np.expand_dims(x, axis=0)\n",
    "\n",
    "def paths_to_tensor(img_paths):\n",
    "    list_of_tensors = [path_to_tensor(img_path) for img_path in tqdm(img_paths)]\n",
    "    return np.vstack(list_of_tensors)"
   ]
  },
  {
   "cell_type": "markdown",
   "metadata": {
    "deletable": true,
    "editable": true
   },
   "source": [
    "### Making Predictions with ResNet-50\n",
    "\n",
    "Getting the 4D tensor ready for ResNet-50, and for any other pre-trained model in Keras, requires some additional processing.  First, the RGB image is converted to BGR by reordering the channels.  All pre-trained models have the additional normalization step that the mean pixel (expressed in RGB as $[103.939, 116.779, 123.68]$ and calculated from all pixels in all images in ImageNet) must be subtracted from every pixel in each image.  This is implemented in the imported function `preprocess_input`.  If you're curious, you can check the code for `preprocess_input` [here](https://github.com/fchollet/keras/blob/master/keras/applications/imagenet_utils.py).\n",
    "\n",
    "Now that we have a way to format our image for supplying to ResNet-50, we are now ready to use the model to extract the predictions.  This is accomplished with the `predict` method, which returns an array whose $i$-th entry is the model's predicted probability that the image belongs to the $i$-th ImageNet category.  This is implemented in the `ResNet50_predict_labels` function below.\n",
    "\n",
    "By taking the argmax of the predicted probability vector, we obtain an integer corresponding to the model's predicted object class, which we can identify with an object category through the use of this [dictionary](https://gist.github.com/yrevar/942d3a0ac09ec9e5eb3a). "
   ]
  },
  {
   "cell_type": "code",
   "execution_count": 31,
   "metadata": {
    "collapsed": true,
    "deletable": true,
    "editable": true
   },
   "outputs": [],
   "source": [
    "from keras.applications.resnet50 import preprocess_input, decode_predictions\n",
    "\n",
    "def ResNet50_predict_labels(img_path):\n",
    "    # returns prediction vector for image located at img_path\n",
    "    img = preprocess_input(path_to_tensor(img_path))\n",
    "    return np.argmax(ResNet50_model.predict(img))"
   ]
  },
  {
   "cell_type": "markdown",
   "metadata": {
    "deletable": true,
    "editable": true
   },
   "source": [
    "### Write a Dog Detector\n",
    "\n",
    "While looking at the [dictionary](https://gist.github.com/yrevar/942d3a0ac09ec9e5eb3a), you will notice that the categories corresponding to dogs appear in an uninterrupted sequence and correspond to dictionary keys 151-268, inclusive, to include all categories from `'Chihuahua'` to `'Mexican hairless'`.  Thus, in order to check to see if an image is predicted to contain a dog by the pre-trained ResNet-50 model, we need only check if the `ResNet50_predict_labels` function above returns a value between 151 and 268 (inclusive).\n",
    "\n",
    "We use these ideas to complete the `dog_detector` function below, which returns `True` if a dog is detected in an image (and `False` if not)."
   ]
  },
  {
   "cell_type": "code",
   "execution_count": 32,
   "metadata": {
    "collapsed": true,
    "deletable": true,
    "editable": true
   },
   "outputs": [],
   "source": [
    "### returns \"True\" if a dog is detected in the image stored at img_path\n",
    "def dog_detector(img_path):\n",
    "    prediction = ResNet50_predict_labels(img_path)\n",
    "    return ((prediction <= 268) & (prediction >= 151)) "
   ]
  },
  {
   "cell_type": "markdown",
   "metadata": {
    "deletable": true,
    "editable": true
   },
   "source": [
    "### (IMPLEMENTATION) Assess the Dog Detector\n",
    "\n",
    "__Question 3:__ Use the code cell below to test the performance of your `dog_detector` function.  \n",
    "- What percentage of the images in `human_files_short` have a detected dog?  \n",
    "- What percentage of the images in `dog_files_short` have a detected dog?\n",
    "\n",
    "__Answer:__ "
   ]
  },
  {
   "cell_type": "code",
   "execution_count": 35,
   "metadata": {
    "collapsed": false,
    "deletable": true,
    "editable": true
   },
   "outputs": [
    {
     "name": "stdout",
     "output_type": "stream",
     "text": [
      "Accuracy: 1%\n",
      "Accuracy: 100%\n"
     ]
    }
   ],
   "source": [
    "### TODO: Test the performance of the dog_detector function\n",
    "### on the images in human_files_short and dog_files_short.\n",
    "count_detected_in_human = len(list(filter(lambda x: dog_detector(x), human_files_short)))\n",
    "count_detected_in_dog = len(list(filter(lambda x: dog_detector(x), dog_files_short)))\n",
    "\n",
    "print(\"Accuracy: {}%\".format(count_detected_in_human))\n",
    "print(\"Accuracy: {}%\".format(count_detected_in_dog))"
   ]
  },
  {
   "cell_type": "markdown",
   "metadata": {
    "deletable": true,
    "editable": true
   },
   "source": [
    "---\n",
    "<a id='step3'></a>\n",
    "## Step 3: Create a CNN to Classify Dog Breeds (from Scratch)\n",
    "\n",
    "Now that we have functions for detecting humans and dogs in images, we need a way to predict breed from images.  In this step, you will create a CNN that classifies dog breeds.  You must create your CNN _from scratch_ (so, you can't use transfer learning _yet_!), and you must attain a test accuracy of at least 1%.  In Step 5 of this notebook, you will have the opportunity to use transfer learning to create a CNN that attains greatly improved accuracy.\n",
    "\n",
    "Be careful with adding too many trainable layers!  More parameters means longer training, which means you are more likely to need a GPU to accelerate the training process.  Thankfully, Keras provides a handy estimate of the time that each epoch is likely to take; you can extrapolate this estimate to figure out how long it will take for your algorithm to train. \n",
    "\n",
    "We mention that the task of assigning breed to dogs from images is considered exceptionally challenging.  To see why, consider that *even a human* would have great difficulty in distinguishing between a Brittany and a Welsh Springer Spaniel.  \n",
    "\n",
    "Brittany | Welsh Springer Spaniel\n",
    "- | - \n",
    "<img src=\"images/Brittany_02625.jpg\" width=\"100\"> | <img src=\"images/Welsh_springer_spaniel_08203.jpg\" width=\"200\">\n",
    "\n",
    "It is not difficult to find other dog breed pairs with minimal inter-class variation (for instance, Curly-Coated Retrievers and American Water Spaniels).  \n",
    "\n",
    "Curly-Coated Retriever | American Water Spaniel\n",
    "- | -\n",
    "<img src=\"images/Curly-coated_retriever_03896.jpg\" width=\"200\"> | <img src=\"images/American_water_spaniel_00648.jpg\" width=\"200\">\n",
    "\n",
    "\n",
    "Likewise, recall that labradors come in yellow, chocolate, and black.  Your vision-based algorithm will have to conquer this high intra-class variation to determine how to classify all of these different shades as the same breed.  \n",
    "\n",
    "Yellow Labrador | Chocolate Labrador | Black Labrador\n",
    "- | -\n",
    "<img src=\"images/Labrador_retriever_06457.jpg\" width=\"150\"> | <img src=\"images/Labrador_retriever_06455.jpg\" width=\"240\"> | <img src=\"images/Labrador_retriever_06449.jpg\" width=\"220\">\n",
    "\n",
    "We also mention that random chance presents an exceptionally low bar: setting aside the fact that the classes are slightly imabalanced, a random guess will provide a correct answer roughly 1 in 133 times, which corresponds to an accuracy of less than 1%.  \n",
    "\n",
    "Remember that the practice is far ahead of the theory in deep learning.  Experiment with many different architectures, and trust your intuition.  And, of course, have fun! \n",
    "\n",
    "### Pre-process the Data\n",
    "\n",
    "We rescale the images by dividing every pixel in every image by 255."
   ]
  },
  {
   "cell_type": "code",
   "execution_count": null,
   "metadata": {
    "collapsed": true,
    "deletable": true,
    "editable": true
   },
   "outputs": [],
   "source": [
    "from PIL import ImageFile                            \n",
    "ImageFile.LOAD_TRUNCATED_IMAGES = True                 \n",
    "\n",
    "# pre-process the data for Keras\n",
    "train_tensors = paths_to_tensor(train_files).astype('float32')/255\n",
    "valid_tensors = paths_to_tensor(valid_files).astype('float32')/255\n",
    "test_tensors = paths_to_tensor(test_files).astype('float32')/255"
   ]
  },
  {
   "cell_type": "markdown",
   "metadata": {
    "deletable": true,
    "editable": true
   },
   "source": [
    "### (IMPLEMENTATION) Model Architecture\n",
    "\n",
    "Create a CNN to classify dog breed.  At the end of your code cell block, summarize the layers of your model by executing the line:\n",
    "    \n",
    "        model.summary()\n",
    "\n",
    "We have imported some Python modules to get you started, but feel free to import as many modules as you need.  If you end up getting stuck, here's a hint that specifies a model that trains relatively fast on CPU and attains >1% test accuracy in 5 epochs:\n",
    "\n",
    "![Sample CNN](images/sample_cnn.png)\n",
    "           \n",
    "__Question 4:__ Outline the steps you took to get to your final CNN architecture and your reasoning at each step.  If you chose to use the hinted architecture above, describe why you think that CNN architecture should work well for the image classification task.\n",
    "\n",
    "__Answer:__ "
   ]
  },
  {
   "cell_type": "code",
   "execution_count": null,
   "metadata": {
    "collapsed": true,
    "deletable": true,
    "editable": true
   },
   "outputs": [],
   "source": [
    "from keras.layers import Conv2D, MaxPooling2D, GlobalAveragePooling2D\n",
    "from keras.layers import Dropout, Flatten, Dense\n",
    "from keras.models import Sequential\n",
    "\n",
    "model = Sequential()\n",
    "\n",
    "### TODO: Define your architecture.\n",
    "\n",
    "model.summary()"
   ]
  },
  {
   "cell_type": "markdown",
   "metadata": {
    "deletable": true,
    "editable": true
   },
   "source": [
    "### Compile the Model"
   ]
  },
  {
   "cell_type": "code",
   "execution_count": null,
   "metadata": {
    "collapsed": true,
    "deletable": true,
    "editable": true
   },
   "outputs": [],
   "source": [
    "model.compile(optimizer='rmsprop', loss='categorical_crossentropy', metrics=['accuracy'])"
   ]
  },
  {
   "cell_type": "markdown",
   "metadata": {
    "deletable": true,
    "editable": true
   },
   "source": [
    "### (IMPLEMENTATION) Train the Model\n",
    "\n",
    "Train your model in the code cell below.  Use model checkpointing to save the model that attains the best validation loss.\n",
    "\n",
    "You are welcome to [augment the training data](https://blog.keras.io/building-powerful-image-classification-models-using-very-little-data.html), but this is not a requirement. "
   ]
  },
  {
   "cell_type": "code",
   "execution_count": null,
   "metadata": {
    "collapsed": true,
    "deletable": true,
    "editable": true
   },
   "outputs": [],
   "source": [
    "from keras.callbacks import ModelCheckpoint  \n",
    "\n",
    "### TODO: specify the number of epochs that you would like to use to train the model.\n",
    "\n",
    "epochs = ...\n",
    "\n",
    "### Do NOT modify the code below this line.\n",
    "\n",
    "checkpointer = ModelCheckpoint(filepath='saved_models/weights.best.from_scratch.hdf5', \n",
    "                               verbose=1, save_best_only=True)\n",
    "\n",
    "model.fit(train_tensors, train_targets, \n",
    "          validation_data=(valid_tensors, valid_targets),\n",
    "          epochs=epochs, batch_size=20, callbacks=[checkpointer], verbose=1)"
   ]
  },
  {
   "cell_type": "markdown",
   "metadata": {
    "deletable": true,
    "editable": true
   },
   "source": [
    "### Load the Model with the Best Validation Loss"
   ]
  },
  {
   "cell_type": "code",
   "execution_count": null,
   "metadata": {
    "collapsed": true,
    "deletable": true,
    "editable": true
   },
   "outputs": [],
   "source": [
    "model.load_weights('saved_models/weights.best.from_scratch.hdf5')"
   ]
  },
  {
   "cell_type": "markdown",
   "metadata": {
    "deletable": true,
    "editable": true
   },
   "source": [
    "### Test the Model\n",
    "\n",
    "Try out your model on the test dataset of dog images.  Ensure that your test accuracy is greater than 1%."
   ]
  },
  {
   "cell_type": "code",
   "execution_count": null,
   "metadata": {
    "collapsed": true,
    "deletable": true,
    "editable": true
   },
   "outputs": [],
   "source": [
    "# get index of predicted dog breed for each image in test set\n",
    "dog_breed_predictions = [np.argmax(model.predict(np.expand_dims(tensor, axis=0))) for tensor in test_tensors]\n",
    "\n",
    "# report test accuracy\n",
    "test_accuracy = 100*np.sum(np.array(dog_breed_predictions)==np.argmax(test_targets, axis=1))/len(dog_breed_predictions)\n",
    "print('Test accuracy: %.4f%%' % test_accuracy)"
   ]
  },
  {
   "cell_type": "markdown",
   "metadata": {
    "deletable": true,
    "editable": true
   },
   "source": [
    "---\n",
    "<a id='step4'></a>\n",
    "## Step 4: Use a CNN to Classify Dog Breeds\n",
    "\n",
    "To reduce training time without sacrificing accuracy, we show you how to train a CNN using transfer learning.  In the following step, you will get a chance to use transfer learning to train your own CNN.\n",
    "\n",
    "### Obtain Bottleneck Features"
   ]
  },
  {
   "cell_type": "code",
   "execution_count": null,
   "metadata": {
    "collapsed": true,
    "deletable": true,
    "editable": true
   },
   "outputs": [],
   "source": [
    "bottleneck_features = np.load('bottleneck_features/DogVGG16Data.npz')\n",
    "train_VGG16 = bottleneck_features['train']\n",
    "valid_VGG16 = bottleneck_features['valid']\n",
    "test_VGG16 = bottleneck_features['test']"
   ]
  },
  {
   "cell_type": "markdown",
   "metadata": {
    "deletable": true,
    "editable": true
   },
   "source": [
    "### Model Architecture\n",
    "\n",
    "The model uses the the pre-trained VGG-16 model as a fixed feature extractor, where the last convolutional output of VGG-16 is fed as input to our model.  We only add a global average pooling layer and a fully connected layer, where the latter contains one node for each dog category and is equipped with a softmax."
   ]
  },
  {
   "cell_type": "code",
   "execution_count": null,
   "metadata": {
    "collapsed": true,
    "deletable": true,
    "editable": true
   },
   "outputs": [],
   "source": [
    "VGG16_model = Sequential()\n",
    "VGG16_model.add(GlobalAveragePooling2D(input_shape=train_VGG16.shape[1:]))\n",
    "VGG16_model.add(Dense(133, activation='softmax'))\n",
    "\n",
    "VGG16_model.summary()"
   ]
  },
  {
   "cell_type": "markdown",
   "metadata": {
    "deletable": true,
    "editable": true
   },
   "source": [
    "### Compile the Model"
   ]
  },
  {
   "cell_type": "code",
   "execution_count": null,
   "metadata": {
    "collapsed": true,
    "deletable": true,
    "editable": true
   },
   "outputs": [],
   "source": [
    "VGG16_model.compile(loss='categorical_crossentropy', optimizer='rmsprop', metrics=['accuracy'])"
   ]
  },
  {
   "cell_type": "markdown",
   "metadata": {
    "deletable": true,
    "editable": true
   },
   "source": [
    "### Train the Model"
   ]
  },
  {
   "cell_type": "code",
   "execution_count": null,
   "metadata": {
    "collapsed": true,
    "deletable": true,
    "editable": true
   },
   "outputs": [],
   "source": [
    "checkpointer = ModelCheckpoint(filepath='saved_models/weights.best.VGG16.hdf5', \n",
    "                               verbose=1, save_best_only=True)\n",
    "\n",
    "VGG16_model.fit(train_VGG16, train_targets, \n",
    "          validation_data=(valid_VGG16, valid_targets),\n",
    "          epochs=20, batch_size=20, callbacks=[checkpointer], verbose=1)"
   ]
  },
  {
   "cell_type": "markdown",
   "metadata": {
    "deletable": true,
    "editable": true
   },
   "source": [
    "### Load the Model with the Best Validation Loss"
   ]
  },
  {
   "cell_type": "code",
   "execution_count": null,
   "metadata": {
    "collapsed": true,
    "deletable": true,
    "editable": true
   },
   "outputs": [],
   "source": [
    "VGG16_model.load_weights('saved_models/weights.best.VGG16.hdf5')"
   ]
  },
  {
   "cell_type": "markdown",
   "metadata": {
    "deletable": true,
    "editable": true
   },
   "source": [
    "### Test the Model\n",
    "\n",
    "Now, we can use the CNN to test how well it identifies breed within our test dataset of dog images.  We print the test accuracy below."
   ]
  },
  {
   "cell_type": "code",
   "execution_count": null,
   "metadata": {
    "collapsed": true,
    "deletable": true,
    "editable": true
   },
   "outputs": [],
   "source": [
    "# get index of predicted dog breed for each image in test set\n",
    "VGG16_predictions = [np.argmax(VGG16_model.predict(np.expand_dims(feature, axis=0))) for feature in test_VGG16]\n",
    "\n",
    "# report test accuracy\n",
    "test_accuracy = 100*np.sum(np.array(VGG16_predictions)==np.argmax(test_targets, axis=1))/len(VGG16_predictions)\n",
    "print('Test accuracy: %.4f%%' % test_accuracy)"
   ]
  },
  {
   "cell_type": "markdown",
   "metadata": {
    "deletable": true,
    "editable": true
   },
   "source": [
    "### Predict Dog Breed with the Model"
   ]
  },
  {
   "cell_type": "code",
   "execution_count": null,
   "metadata": {
    "collapsed": true,
    "deletable": true,
    "editable": true
   },
   "outputs": [],
   "source": [
    "from extract_bottleneck_features import *\n",
    "\n",
    "def VGG16_predict_breed(img_path):\n",
    "    # extract bottleneck features\n",
    "    bottleneck_feature = extract_VGG16(path_to_tensor(img_path))\n",
    "    # obtain predicted vector\n",
    "    predicted_vector = VGG16_model.predict(bottleneck_feature)\n",
    "    # return dog breed that is predicted by the model\n",
    "    return dog_names[np.argmax(predicted_vector)]"
   ]
  },
  {
   "cell_type": "markdown",
   "metadata": {
    "deletable": true,
    "editable": true
   },
   "source": [
    "---\n",
    "<a id='step5'></a>\n",
    "## Step 5: Create a CNN to Classify Dog Breeds (using Transfer Learning)\n",
    "\n",
    "You will now use transfer learning to create a CNN that can identify dog breed from images.  Your CNN must attain at least 60% accuracy on the test set.\n",
    "\n",
    "In Step 4, we used transfer learning to create a CNN using VGG-16 bottleneck features.  In this section, you must use the bottleneck features from a different pre-trained model.  To make things easier for you, we have pre-computed the features for all of the networks that are currently available in Keras:\n",
    "- [VGG-19](https://s3-us-west-1.amazonaws.com/udacity-aind/dog-project/DogVGG19Data.npz) bottleneck features\n",
    "- [ResNet-50](https://s3-us-west-1.amazonaws.com/udacity-aind/dog-project/DogResnet50Data.npz) bottleneck features\n",
    "- [Inception](https://s3-us-west-1.amazonaws.com/udacity-aind/dog-project/DogInceptionV3Data.npz) bottleneck features\n",
    "- [Xception](https://s3-us-west-1.amazonaws.com/udacity-aind/dog-project/DogXceptionData.npz) bottleneck features\n",
    "\n",
    "The files are encoded as such:\n",
    "\n",
    "    Dog{network}Data.npz\n",
    "    \n",
    "where `{network}`, in the above filename, can be one of `VGG19`, `Resnet50`, `InceptionV3`, or `Xception`.  Pick one of the above architectures, download the corresponding bottleneck features, and store the downloaded file in the `bottleneck_features/` folder in the repository.\n",
    "\n",
    "### (IMPLEMENTATION) Obtain Bottleneck Features\n",
    "\n",
    "In the code block below, extract the bottleneck features corresponding to the train, test, and validation sets by running the following:\n",
    "\n",
    "    bottleneck_features = np.load('bottleneck_features/Dog{network}Data.npz')\n",
    "    train_{network} = bottleneck_features['train']\n",
    "    valid_{network} = bottleneck_features['valid']\n",
    "    test_{network} = bottleneck_features['test']"
   ]
  },
  {
   "cell_type": "code",
   "execution_count": null,
   "metadata": {
    "collapsed": true,
    "deletable": true,
    "editable": true
   },
   "outputs": [],
   "source": [
    "### TODO: Obtain bottleneck features from another pre-trained CNN."
   ]
  },
  {
   "cell_type": "markdown",
   "metadata": {
    "deletable": true,
    "editable": true
   },
   "source": [
    "### (IMPLEMENTATION) Model Architecture\n",
    "\n",
    "Create a CNN to classify dog breed.  At the end of your code cell block, summarize the layers of your model by executing the line:\n",
    "    \n",
    "        <your model's name>.summary()\n",
    "   \n",
    "__Question 5:__ Outline the steps you took to get to your final CNN architecture and your reasoning at each step.  Describe why you think the architecture is suitable for the current problem.\n",
    "\n",
    "__Answer:__ \n",
    "\n"
   ]
  },
  {
   "cell_type": "code",
   "execution_count": null,
   "metadata": {
    "collapsed": true,
    "deletable": true,
    "editable": true
   },
   "outputs": [],
   "source": [
    "### TODO: Define your architecture."
   ]
  },
  {
   "cell_type": "markdown",
   "metadata": {
    "deletable": true,
    "editable": true
   },
   "source": [
    "### (IMPLEMENTATION) Compile the Model"
   ]
  },
  {
   "cell_type": "code",
   "execution_count": null,
   "metadata": {
    "collapsed": true,
    "deletable": true,
    "editable": true
   },
   "outputs": [],
   "source": [
    "### TODO: Compile the model."
   ]
  },
  {
   "cell_type": "markdown",
   "metadata": {
    "deletable": true,
    "editable": true
   },
   "source": [
    "### (IMPLEMENTATION) Train the Model\n",
    "\n",
    "Train your model in the code cell below.  Use model checkpointing to save the model that attains the best validation loss.  \n",
    "\n",
    "You are welcome to [augment the training data](https://blog.keras.io/building-powerful-image-classification-models-using-very-little-data.html), but this is not a requirement. "
   ]
  },
  {
   "cell_type": "code",
   "execution_count": null,
   "metadata": {
    "collapsed": true,
    "deletable": true,
    "editable": true
   },
   "outputs": [],
   "source": [
    "### TODO: Train the model."
   ]
  },
  {
   "cell_type": "markdown",
   "metadata": {
    "deletable": true,
    "editable": true
   },
   "source": [
    "### (IMPLEMENTATION) Load the Model with the Best Validation Loss"
   ]
  },
  {
   "cell_type": "code",
   "execution_count": null,
   "metadata": {
    "collapsed": true,
    "deletable": true,
    "editable": true
   },
   "outputs": [],
   "source": [
    "### TODO: Load the model weights with the best validation loss."
   ]
  },
  {
   "cell_type": "markdown",
   "metadata": {
    "deletable": true,
    "editable": true
   },
   "source": [
    "### (IMPLEMENTATION) Test the Model\n",
    "\n",
    "Try out your model on the test dataset of dog images. Ensure that your test accuracy is greater than 60%."
   ]
  },
  {
   "cell_type": "code",
   "execution_count": null,
   "metadata": {
    "collapsed": true,
    "deletable": true,
    "editable": true
   },
   "outputs": [],
   "source": [
    "### TODO: Calculate classification accuracy on the test dataset."
   ]
  },
  {
   "cell_type": "markdown",
   "metadata": {
    "deletable": true,
    "editable": true
   },
   "source": [
    "### (IMPLEMENTATION) Predict Dog Breed with the Model\n",
    "\n",
    "Write a function that takes an image path as input and returns the dog breed (`Affenpinscher`, `Afghan_hound`, etc) that is predicted by your model.  \n",
    "\n",
    "Similar to the analogous function in Step 5, your function should have three steps:\n",
    "1. Extract the bottleneck features corresponding to the chosen CNN model.\n",
    "2. Supply the bottleneck features as input to the model to return the predicted vector.  Note that the argmax of this prediction vector gives the index of the predicted dog breed.\n",
    "3. Use the `dog_names` array defined in Step 0 of this notebook to return the corresponding breed.\n",
    "\n",
    "The functions to extract the bottleneck features can be found in `extract_bottleneck_features.py`, and they have been imported in an earlier code cell.  To obtain the bottleneck features corresponding to your chosen CNN architecture, you need to use the function\n",
    "\n",
    "    extract_{network}\n",
    "    \n",
    "where `{network}`, in the above filename, should be one of `VGG19`, `Resnet50`, `InceptionV3`, or `Xception`."
   ]
  },
  {
   "cell_type": "code",
   "execution_count": null,
   "metadata": {
    "collapsed": true,
    "deletable": true,
    "editable": true
   },
   "outputs": [],
   "source": [
    "### TODO: Write a function that takes a path to an image as input\n",
    "### and returns the dog breed that is predicted by the model."
   ]
  },
  {
   "cell_type": "markdown",
   "metadata": {
    "deletable": true,
    "editable": true
   },
   "source": [
    "---\n",
    "<a id='step6'></a>\n",
    "## Step 6: Write your Algorithm\n",
    "\n",
    "Write an algorithm that accepts a file path to an image and first determines whether the image contains a human, dog, or neither.  Then,\n",
    "- if a __dog__ is detected in the image, return the predicted breed.\n",
    "- if a __human__ is detected in the image, return the resembling dog breed.\n",
    "- if __neither__ is detected in the image, provide output that indicates an error.\n",
    "\n",
    "You are welcome to write your own functions for detecting humans and dogs in images, but feel free to use the `face_detector` and `dog_detector` functions developed above.  You are __required__ to use your CNN from Step 5 to predict dog breed.  \n",
    "\n",
    "Some sample output for our algorithm is provided below, but feel free to design your own user experience!\n",
    "\n",
    "![Sample Human Output](images/sample_human_output.png)\n",
    "\n",
    "\n",
    "### (IMPLEMENTATION) Write your Algorithm"
   ]
  },
  {
   "cell_type": "code",
   "execution_count": null,
   "metadata": {
    "collapsed": true,
    "deletable": true,
    "editable": true
   },
   "outputs": [],
   "source": [
    "### TODO: Write your algorithm.\n",
    "### Feel free to use as many code cells as needed."
   ]
  },
  {
   "cell_type": "markdown",
   "metadata": {
    "deletable": true,
    "editable": true
   },
   "source": [
    "---\n",
    "<a id='step7'></a>\n",
    "## Step 7: Test Your Algorithm\n",
    "\n",
    "In this section, you will take your new algorithm for a spin!  What kind of dog does the algorithm think that __you__ look like?  If you have a dog, does it predict your dog's breed accurately?  If you have a cat, does it mistakenly think that your cat is a dog?\n",
    "\n",
    "### (IMPLEMENTATION) Test Your Algorithm on Sample Images!\n",
    "\n",
    "Test your algorithm at least six images on your computer.  Feel free to use any images you like.  Use at least two human and two dog images.  \n",
    "\n",
    "__Question 6:__ Is the output better than you expected :) ?  Or worse :( ?  Provide at least three possible points of improvement for your algorithm.\n",
    "\n",
    "__Answer:__ "
   ]
  },
  {
   "cell_type": "code",
   "execution_count": null,
   "metadata": {
    "collapsed": true,
    "deletable": true,
    "editable": true
   },
   "outputs": [],
   "source": [
    "## TODO: Execute your algorithm from Step 6 on\n",
    "## at least 6 images on your computer.\n",
    "## Feel free to use as many code cells as needed."
   ]
  }
 ],
 "metadata": {
  "anaconda-cloud": {},
  "kernelspec": {
   "display_name": "Python 3",
   "language": "python",
   "name": "python3"
  }
 },
 "nbformat": 4,
 "nbformat_minor": 1
}
